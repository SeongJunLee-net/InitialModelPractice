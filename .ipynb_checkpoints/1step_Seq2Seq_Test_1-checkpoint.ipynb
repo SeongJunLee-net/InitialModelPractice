{
 "cells": [
  {
   "cell_type": "markdown",
   "id": "1593e35a",
   "metadata": {},
   "source": [
    "<font color = blue><font size = 6> 실험설명 </font></font><br>\n",
    "Pytorch의 모델 구성의 기본을 study하면서 seq2seq의 many to one을 구현해볼 것이다 이를 위해서는 Decoder에 Encoder의 cell과 hidden state와 함께 마지막 data를 넣어주어야 한다 <br>\n",
    "여기서 진행할 실험은\n",
    "<font color = blue>정답 값이 들어올 때 훈련없이 그 정답 값을 이용해서 다음 값을 예측한 것이다</font><br>"
   ]
  },
  {
   "cell_type": "code",
   "execution_count": 1,
   "id": "c4e0a2da",
   "metadata": {},
   "outputs": [],
   "source": [
    "import pandas as pd\n",
    "import numpy as np\n",
    "import matplotlib.pyplot as plt\n",
    "import time"
   ]
  },
  {
   "cell_type": "code",
   "execution_count": 2,
   "id": "f4383c3e",
   "metadata": {},
   "outputs": [
    {
     "name": "stderr",
     "output_type": "stream",
     "text": [
      "/home/sjlee/sj_virtual/lib/python3.8/site-packages/tqdm/auto.py:22: TqdmWarning: IProgress not found. Please update jupyter and ipywidgets. See https://ipywidgets.readthedocs.io/en/stable/user_install.html\n",
      "  from .autonotebook import tqdm as notebook_tqdm\n"
     ]
    }
   ],
   "source": [
    "import torch\n",
    "import torch.nn as nn\n",
    "from pytorch_forecasting.metrics import SMAPE\n",
    "from torch.utils.data import DataLoader,TensorDataset\n",
    "from torch import FloatTensor\n",
    "from torch.optim import Adam"
   ]
  },
  {
   "cell_type": "code",
   "execution_count": 3,
   "id": "cda834c0",
   "metadata": {
    "scrolled": true
   },
   "outputs": [
    {
     "data": {
      "text/html": [
       "<div>\n",
       "<style scoped>\n",
       "    .dataframe tbody tr th:only-of-type {\n",
       "        vertical-align: middle;\n",
       "    }\n",
       "\n",
       "    .dataframe tbody tr th {\n",
       "        vertical-align: top;\n",
       "    }\n",
       "\n",
       "    .dataframe thead th {\n",
       "        text-align: right;\n",
       "    }\n",
       "</style>\n",
       "<table border=\"1\" class=\"dataframe\">\n",
       "  <thead>\n",
       "    <tr style=\"text-align: right;\">\n",
       "      <th></th>\n",
       "      <th>values</th>\n",
       "    </tr>\n",
       "  </thead>\n",
       "  <tbody>\n",
       "    <tr>\n",
       "      <th>0</th>\n",
       "      <td>92408</td>\n",
       "    </tr>\n",
       "    <tr>\n",
       "      <th>1</th>\n",
       "      <td>92150</td>\n",
       "    </tr>\n",
       "    <tr>\n",
       "      <th>2</th>\n",
       "      <td>94896</td>\n",
       "    </tr>\n",
       "    <tr>\n",
       "      <th>3</th>\n",
       "      <td>92694</td>\n",
       "    </tr>\n",
       "    <tr>\n",
       "      <th>4</th>\n",
       "      <td>93674</td>\n",
       "    </tr>\n",
       "    <tr>\n",
       "      <th>...</th>\n",
       "      <td>...</td>\n",
       "    </tr>\n",
       "    <tr>\n",
       "      <th>38875</th>\n",
       "      <td>81521</td>\n",
       "    </tr>\n",
       "    <tr>\n",
       "      <th>38876</th>\n",
       "      <td>83092</td>\n",
       "    </tr>\n",
       "    <tr>\n",
       "      <th>38877</th>\n",
       "      <td>84873</td>\n",
       "    </tr>\n",
       "    <tr>\n",
       "      <th>38878</th>\n",
       "      <td>81736</td>\n",
       "    </tr>\n",
       "    <tr>\n",
       "      <th>38879</th>\n",
       "      <td>81236</td>\n",
       "    </tr>\n",
       "  </tbody>\n",
       "</table>\n",
       "<p>38880 rows × 1 columns</p>\n",
       "</div>"
      ],
      "text/plain": [
       "       values\n",
       "0       92408\n",
       "1       92150\n",
       "2       94896\n",
       "3       92694\n",
       "4       93674\n",
       "...       ...\n",
       "38875   81521\n",
       "38876   83092\n",
       "38877   84873\n",
       "38878   81736\n",
       "38879   81236\n",
       "\n",
       "[38880 rows x 1 columns]"
      ]
     },
     "execution_count": 3,
     "metadata": {},
     "output_type": "execute_result"
    }
   ],
   "source": [
    "data = pd.read_csv('../data/5.csv')\n",
    "data"
   ]
  },
  {
   "cell_type": "code",
   "execution_count": 4,
   "id": "6956e0f7",
   "metadata": {},
   "outputs": [],
   "source": [
    "from sklearn.preprocessing import MinMaxScaler\n",
    "scaler = MinMaxScaler()\n",
    "data = scaler.fit_transform(data)"
   ]
  },
  {
   "cell_type": "code",
   "execution_count": 5,
   "id": "a5a2cfbb",
   "metadata": {},
   "outputs": [
    {
     "data": {
      "text/plain": [
       "['/hdd_1/sjlee/Model_Implementation/online_learning_seq2seq']"
      ]
     },
     "execution_count": 5,
     "metadata": {},
     "output_type": "execute_result"
    }
   ],
   "source": [
    "import configparser\n",
    "import os\n",
    "config = configparser.ConfigParser()\n",
    "config['online_learning_seq2seq']= {\n",
    "    'input_size':1,\n",
    "    'num_layers':1,\n",
    "    'hidden_size':8,\n",
    "}\n",
    "with open('online_learning_seq2seq','w') as f:\n",
    "    config.write(f)\n",
    "    \n",
    "config.read(os.getcwd()+os.sep+'online_learning_seq2seq')"
   ]
  },
  {
   "cell_type": "code",
   "execution_count": 6,
   "id": "ed4bafb4",
   "metadata": {},
   "outputs": [],
   "source": [
    "class Encoder(nn.Module):\n",
    "    def __init__(self,configs):\n",
    "        super(Encoder,self).__init__()\n",
    "        self.input_size = int(configs['online_learning_seq2seq']['input_size'])\n",
    "        # input의 feature dimension을 넣어주어야 한다\n",
    "        self.hidden_size = int(configs['online_learning_seq2seq']['hidden_size'])\n",
    "        # 내부에서 feature dimension을 어떻게 바꿔주고 싶은지 넣어주면 된다\n",
    "        # 가령 mxn matrix가 입력으로 들어왔을때 hidden size를 h라 한다면 mxh의 크기로 바꾼다\n",
    "        self.num_layers = int(configs['online_learning_seq2seq']['num_layers'])\n",
    "        self.lstm = nn.LSTM(input_size=self.input_size,hidden_size = self.hidden_size,\n",
    "                           num_layers = self.num_layers,batch_first = True)\n",
    "\n",
    "    \n",
    "    def forward(self,x):\n",
    "        lstm_out,hidden = self.lstm(x) \n",
    "        #lstm의 output으로 나오는 hidden_state는 마지막 hidden_state값이다\n",
    "        # hidden에는 튜플형태로 hidden_state와 cell_state가 둘다 포함돼있다\n",
    "        return lstm_out,hidden\n"
   ]
  },
  {
   "cell_type": "code",
   "execution_count": 7,
   "id": "41c67fe3",
   "metadata": {},
   "outputs": [],
   "source": [
    "class Decoder(nn.Module):\n",
    "    def __init__(self,configs):\n",
    "        super(Decoder,self).__init__()\n",
    "        self.input_size = int(configs['online_learning_seq2seq']['input_size'])\n",
    "        # input의 feature dimension을 넣어주어야 한다\n",
    "        self.hidden_size = int(configs['online_learning_seq2seq']['hidden_size'])\n",
    "        # 내부에서 feature dimension을 어떻게 바꿔주고 싶은지 넣어주면 된다\n",
    "        # 가령 mxn matrix가 입력으로 들어왔을때 hidden size를 h라 한다면 mxh의 크기로 바꾼다\n",
    "        self.num_layers = int(configs['online_learning_seq2seq']['num_layers'])\n",
    "        self.lstm = nn.LSTM(input_size=self.input_size,hidden_size = self.hidden_size,\n",
    "                           num_layers = self.num_layers,batch_first = True)\n",
    "        self.linear = nn.Linear(self.hidden_size,self.input_size)\n",
    "        \n",
    "    def forward(self,x,encoder_hidden):\n",
    "\n",
    "        lstm_out,_ = self.lstm(x,encoder_hidden)\n",
    "        output = self.linear(lstm_out)\n",
    "        \n",
    "        return output,_\n",
    "# 정리하자면 우리가 정답을 알고 있는 시점에서 1시점 전까지의 데이터를 encoder로 넣고\n",
    "# 알고 있는 마지막시점 정보와 encoder에 넣어서 나온 hidden state를 넣어줌으로써 다음시점을 예측"
   ]
  },
  {
   "cell_type": "code",
   "execution_count": 8,
   "id": "de257ae9",
   "metadata": {},
   "outputs": [
    {
     "data": {
      "text/plain": [
       "2"
      ]
     },
     "execution_count": 8,
     "metadata": {},
     "output_type": "execute_result"
    }
   ],
   "source": [
    "tup= (1,2)\n",
    "len(tup)"
   ]
  },
  {
   "cell_type": "code",
   "execution_count": 9,
   "id": "f07bde6b",
   "metadata": {},
   "outputs": [],
   "source": [
    "class seq2seq(nn.Module):\n",
    "    def __init__(self,configs):\n",
    "        super(seq2seq,self).__init__()\n",
    "        self.encoder = Encoder(configs)\n",
    "        self.decoder = Decoder(configs)\n",
    "        \n",
    "    def forward(self,x):\n",
    "        outputs = torch.zeros(x.size(0),1,1) # feature가1개고 target도 1개인 데이터\n",
    "        _,final_hidden = self.encoder(x)\n",
    "        output,_ = self.decoder(x = x[:,-1,:].view(-1,1,1),encoder_hidden = final_hidden)\n",
    "        \n",
    "        return output"
   ]
  },
  {
   "cell_type": "code",
   "execution_count": 10,
   "id": "ffb3b6f7",
   "metadata": {},
   "outputs": [],
   "source": [
    "def seq_data(x,sequence_length,pred_len):\n",
    "    seq_list = []\n",
    "    target_list = []\n",
    "    device = torch.device(\"cuda:0\")\n",
    "    if (type(x)==list)|(type(x)==np.ndarray):\n",
    "        for i in range(len(x)-sequence_length):\n",
    "            seq_list.append(x[i:i+sequence_length].values)\n",
    "            target_list.append(x[i+sequence_length])\n",
    "    \n",
    "    if (type(x) == pd.Series)|(type(x) == pd.DataFrame):\n",
    "        for i in range(len(x)-sequence_length):\n",
    "            seq_list.append(x.iloc[i:i+sequence_length].values)\n",
    "            target_list.append(x.iloc[i+sequence_length])\n",
    "\n",
    "#             if i == 0:\n",
    "#                  print(x.iloc[i:i+sequence_length].values)\n",
    "#                  print(y[i+sequence_length:i+sequence_length+pred_len].values)\n",
    "            #print(x[i+sequence_length:i+sequence_length+pred_len].values.shape)\n",
    "    else:\n",
    "        print('error')\n",
    "\n",
    "    return FloatTensor(seq_list).view(-1,1,sequence_length).to(device),FloatTensor(target_list).unsqueeze(1).view(-1,1,pred_len).to(device)"
   ]
  },
  {
   "cell_type": "code",
   "execution_count": 26,
   "id": "8760a53e",
   "metadata": {},
   "outputs": [],
   "source": [
    "sequence_length = 1440\n",
    "pred_len = 1\n",
    "split= 1440\n",
    "x_data = pd.DataFrame({'values':data[:-split].reshape(-1)})\n",
    "x_seq,target = seq_data(x=x_data,sequence_length=sequence_length,pred_len=pred_len)"
   ]
  },
  {
   "cell_type": "code",
   "execution_count": 12,
   "id": "8b0c4410",
   "metadata": {
    "scrolled": true
   },
   "outputs": [
    {
     "data": {
      "text/plain": [
       "tensor([[[0.1487, 0.1481, 0.1538,  ..., 0.1609, 0.1565, 0.1615]],\n",
       "\n",
       "        [[0.1481, 0.1538, 0.1493,  ..., 0.1565, 0.1615, 0.1608]],\n",
       "\n",
       "        [[0.1538, 0.1493, 0.1513,  ..., 0.1615, 0.1608, 0.1595]],\n",
       "\n",
       "        ...,\n",
       "\n",
       "        [[0.1611, 0.1663, 0.1589,  ..., 0.1075, 0.1085, 0.1086]],\n",
       "\n",
       "        [[0.1663, 0.1589, 0.1529,  ..., 0.1085, 0.1086, 0.1072]],\n",
       "\n",
       "        [[0.1589, 0.1529, 0.1531,  ..., 0.1086, 0.1072, 0.1044]]],\n",
       "       device='cuda:0')"
      ]
     },
     "execution_count": 12,
     "metadata": {},
     "output_type": "execute_result"
    }
   ],
   "source": [
    "x_seq"
   ]
  },
  {
   "cell_type": "code",
   "execution_count": 27,
   "id": "1d04aa7d",
   "metadata": {},
   "outputs": [],
   "source": [
    "batch_size = 128\n",
    "num_epochs = 100\n",
    "train_dataset = TensorDataset(x_seq,target)\n",
    "training = DataLoader(train_dataset,batch_size=batch_size)\n",
    "model = seq2seq(config).to(device)\n",
    "optimizer = Adam(model.parameters(),1e-4)\n",
    "criterion = SMAPE()\n",
    "device = torch.device(\"cuda:0\")"
   ]
  },
  {
   "cell_type": "markdown",
   "id": "5e3a471b",
   "metadata": {},
   "source": [
    "https://justkode.kr/deep-learning/pytorch-save <br>\n",
    "모델 저장 및 불러오기"
   ]
  },
  {
   "cell_type": "code",
   "execution_count": 28,
   "id": "9bc85b0a",
   "metadata": {
    "scrolled": true
   },
   "outputs": [
    {
     "name": "stdout",
     "output_type": "stream",
     "text": [
      "smape 77.04757327306355 %\n",
      "smape 72.35343306199879 %\n",
      "smape 68.7320462196854 %\n",
      "smape 65.9262960102964 %\n",
      "smape 63.818892588218056 %\n",
      "smape 62.02873088128812 %\n",
      "smape 59.8796268251348 %\n",
      "smape 56.05117496010577 %\n",
      "smape 51.76529240735034 %\n",
      "smape 48.86750437068284 %\n",
      "smape 46.405193878417 %\n",
      "smape 44.02174420938794 %\n",
      "smape 41.759271971247294 %\n",
      "smape 39.6221451296187 %\n",
      "smape 37.525690764730385 %\n",
      "smape 35.72208965593513 %\n",
      "smape 34.49985317502778 %\n",
      "smape 33.83039583201051 %\n",
      "smape 33.43969470299516 %\n",
      "smape 33.159114507931875 %\n",
      "smape 32.93238520747751 %\n",
      "smape 32.74449255773203 %\n",
      "smape 32.581243153450124 %\n",
      "smape 32.43735967705964 %\n",
      "smape 32.30369313692687 %\n",
      "smape 32.184802498404224 %\n",
      "smape 32.077491395373606 %\n",
      "smape 31.97758779695905 %\n",
      "smape 31.880451816444594 %\n",
      "smape 31.79299044786087 %\n",
      "smape 31.707922309795595 %\n",
      "smape 31.625923675861443 %\n",
      "smape 31.54749391957166 %\n",
      "smape 31.471435490546497 %\n",
      "smape 31.394624144354083 %\n",
      "smape 31.31769676527656 %\n",
      "smape 31.241290474059525 %\n",
      "smape 31.167661291646198 %\n",
      "smape 31.091177514721206 %\n",
      "smape 31.017593952582768 %\n",
      "smape 30.942788529903332 %\n",
      "smape 30.865311428428967 %\n",
      "smape 30.787599196406546 %\n",
      "smape 30.704785852712835 %\n",
      "smape 30.622821481211492 %\n",
      "smape 30.534467313451863 %\n",
      "smape 30.443419609879346 %\n",
      "smape 30.3467586887538 %\n",
      "smape 30.243493549208694 %\n",
      "smape 30.138753732362538 %\n",
      "smape 30.02879985786499 %\n",
      "smape 29.913893167642836 %\n",
      "smape 29.79096558790469 %\n",
      "smape 29.661138137432598 %\n",
      "smape 29.522247661684524 %\n",
      "smape 29.37762871655431 %\n",
      "smape 29.22208539329152 %\n",
      "smape 29.0583648798155 %\n",
      "smape 28.893186373913544 %\n",
      "smape 28.733605454537148 %\n",
      "smape 28.569170219348152 %\n",
      "smape 28.404198199880458 %\n",
      "smape 28.22863972706205 %\n",
      "smape 28.061455093218502 %\n",
      "smape 27.860828766480406 %\n",
      "smape 30.199106935583426 %\n",
      "smape 29.763332112355435 %\n",
      "smape 29.593762883533397 %\n",
      "smape 31.154092066716533 %\n",
      "smape 27.213325015936334 %\n",
      "smape 26.955578321135263 %\n",
      "smape 26.981525312686433 %\n",
      "smape 27.978418679273826 %\n",
      "smape 27.70791806475464 %\n",
      "smape 26.07334964736926 %\n",
      "smape 27.044849407509076 %\n",
      "smape 27.298501888554256 %\n",
      "smape 38.20943038791735 %\n",
      "smape 26.82411322726848 %\n",
      "smape 25.658002352929866 %\n",
      "smape 24.69223094674765 %\n",
      "smape 24.446220708852437 %\n",
      "smape 24.243526082446284 %\n",
      "smape 24.159692929965175 %\n",
      "smape 24.04166580745884 %\n",
      "smape 23.986472142530037 %\n",
      "smape 23.95634623310456 %\n",
      "smape 23.935162639311443 %\n",
      "smape 23.842497717536297 %\n",
      "smape 23.833275913650578 %\n",
      "smape 24.087434618714006 %\n",
      "smape 23.85209431931218 %\n",
      "smape 23.763341649851583 %\n",
      "smape 23.875831950337012 %\n",
      "smape 23.938279432832456 %\n",
      "smape 23.94576697306483 %\n",
      "smape 23.503999633661714 %\n",
      "smape 29.978166445297127 %\n",
      "smape 27.769059201715685 %\n",
      "smape 27.39878185803454 %\n"
     ]
    }
   ],
   "source": [
    "out_list = []\n",
    "loss_list = []\n",
    "n = len(training)\n",
    "for i in range(num_epochs):\n",
    "    running_loss = 0.0\n",
    "    for seq,tg in training:\n",
    "        \n",
    "        seq = seq.permute(0,2,1)\n",
    "        \n",
    "        out = model(seq).to(device)\n",
    "        \n",
    "        loss = criterion(out,tg)\n",
    "        \n",
    "        optimizer.zero_grad()\n",
    "        \n",
    "        loss.backward()\n",
    "        \n",
    "        optimizer.step() # optimizer 최적화\n",
    "        \n",
    "        running_loss = running_loss + loss.item()        \n",
    "\n",
    "    loss_list.append(running_loss/n)\n",
    "    print('smape',running_loss/n*100,'%')        "
   ]
  },
  {
   "cell_type": "markdown",
   "id": "0edb0e77",
   "metadata": {},
   "source": [
    "<font color = blue> 학습한 모델 저장하고 불러와보기</font>"
   ]
  },
  {
   "cell_type": "code",
   "execution_count": 29,
   "id": "c4948c8c",
   "metadata": {},
   "outputs": [],
   "source": [
    "# 모델 체크 포인트 저장하는 방법\n",
    "# if eval_loss<min_eval_loss:\n",
    "#     min_eval_loss = eval_loss\n",
    "#     torch.save(model,'./checkpoint') #같은 이름으로 저장시 자동으로 덮어쓰기가 된다\n",
    "# https://tutorials.pytorch.kr/beginner/saving_loading_models.html"
   ]
  },
  {
   "cell_type": "code",
   "execution_count": 30,
   "id": "f1a6679b",
   "metadata": {},
   "outputs": [],
   "source": [
    "PATH = './1step-seq2seq-model'\n",
    "torch.save(model,PATH+'1step_model.pt') #pytorch model file = pt | ptf\n",
    "#torch.save(model.state_dict(),PATH+'model_state_dict.pt')"
   ]
  },
  {
   "cell_type": "code",
   "execution_count": 31,
   "id": "77115200",
   "metadata": {},
   "outputs": [
    {
     "data": {
      "text/plain": [
       "seq2seq(\n",
       "  (encoder): Encoder(\n",
       "    (lstm): LSTM(1, 8, batch_first=True)\n",
       "  )\n",
       "  (decoder): Decoder(\n",
       "    (lstm): LSTM(1, 8, batch_first=True)\n",
       "    (linear): Linear(in_features=8, out_features=1, bias=True)\n",
       "  )\n",
       ")"
      ]
     },
     "execution_count": 31,
     "metadata": {},
     "output_type": "execute_result"
    }
   ],
   "source": [
    "model = torch.load(PATH+'1step_model.pt')\n",
    "#model.load_state_dict(torch.load(PATH+'model_state_dict.pt'))\n",
    "model.eval()"
   ]
  },
  {
   "cell_type": "code",
   "execution_count": 33,
   "id": "cbf55fbb",
   "metadata": {},
   "outputs": [],
   "source": [
    "device = torch.device('cuda:0')\n",
    "X =  pd.DataFrame({'values':data[:-split].reshape(-1)})\n",
    "target = pd.DataFrame({'values':data[-split:].reshape(-1)})\n",
    "pred_list = []\n",
    "time_list = []\n",
    "for idx in range(split):\n",
    "    running_loss = 0.0\n",
    "    start = time.time()\n",
    "    \n",
    "    if idx == 0:\n",
    "        new_train = torch.FloatTensor(\n",
    "            [X.iloc[-sequence_length:].values]\n",
    "        ).view(1,sequence_length,1).to(device)\n",
    "                \n",
    "    else:\n",
    "        new_train = torch.FloatTensor(\n",
    "            [pd.concat([X.iloc[-sequence_length+idx:],target.iloc[0:idx]],axis=0,ignore_index=True).values]\n",
    "        ).view(1,sequence_length,1).to(device)\n",
    "\n",
    "    out = model(new_train) # 예측완료\n",
    "    end = time.time()\n",
    "    pred_list.append(out.cpu().view(1).item())\n",
    "    time_list.append(end-start)"
   ]
  },
  {
   "cell_type": "code",
   "execution_count": 34,
   "id": "11b47fdf",
   "metadata": {},
   "outputs": [
    {
     "data": {
      "text/plain": [
       "1440"
      ]
     },
     "execution_count": 34,
     "metadata": {},
     "output_type": "execute_result"
    }
   ],
   "source": [
    "len(pred_list)"
   ]
  },
  {
   "cell_type": "code",
   "execution_count": 41,
   "id": "2c6369f1",
   "metadata": {},
   "outputs": [
    {
     "name": "stdout",
     "output_type": "stream",
     "text": [
      "SMAPE 15.734990119934082 %\n"
     ]
    }
   ],
   "source": [
    "target = target.values.reshape(-1,1)\n",
    "score=SMAPE()(FloatTensor(np.array(pred_list).reshape(-1,1)),FloatTensor(target))*100\n",
    "print('SMAPE',score.item(),'%')"
   ]
  },
  {
   "cell_type": "code",
   "execution_count": 43,
   "id": "1d553644",
   "metadata": {},
   "outputs": [
    {
     "data": {
      "text/plain": [
       "<matplotlib.legend.Legend at 0x7f805b1bd760>"
      ]
     },
     "execution_count": 43,
     "metadata": {},
     "output_type": "execute_result"
    },
    {
     "data": {
      "image/png": "[encoded data removed]",
      "text/plain": [
       "<Figure size 1200x800 with 1 Axes>"
      ]
     },
     "metadata": {},
     "output_type": "display_data"
    }
   ],
   "source": [
    "fig,axes = plt.subplots(1,1,figsize=(12,8))\n",
    "axes.plot(np.arange(1,1441),pred_list,label='prediction')\n",
    "axes.plot(np.arange(1,1441),target,label='target')\n",
    "axes.legend()"
   ]
  },
  {
   "cell_type": "markdown",
   "id": "ae98fa43",
   "metadata": {},
   "source": [
    "scaling을 해서 차이가 얼마 안나 보이는 거지 scale을 원래대로 돌리면 차이가 확연하게 보일 것 이다"
   ]
  },
  {
   "cell_type": "code",
   "execution_count": 44,
   "id": "192c292f",
   "metadata": {},
   "outputs": [
    {
     "data": {
      "text/plain": [
       "<matplotlib.legend.Legend at 0x7f805b138c10>"
      ]
     },
     "execution_count": 44,
     "metadata": {},
     "output_type": "execute_result"
    },
    {
     "data": {
      "image/png": "[encoded data removed]",
      "text/plain": [
       "<Figure size 1200x800 with 1 Axes>"
      ]
     },
     "metadata": {},
     "output_type": "display_data"
    }
   ],
   "source": [
    "fig,axes = plt.subplots(1,1,figsize=(12,8))\n",
    "axes.plot(np.arange(1,61),pred_list[-60:],label='prediction')\n",
    "axes.plot(np.arange(1,61),target[-60:],label='target')\n",
    "axes.legend()"
   ]
  },
  {
   "cell_type": "code",
   "execution_count": 45,
   "id": "b9a566ae",
   "metadata": {},
   "outputs": [
    {
     "data": {
      "text/plain": [
       "0.002422483265399933"
      ]
     },
     "execution_count": 45,
     "metadata": {},
     "output_type": "execute_result"
    }
   ],
   "source": [
    "np.mean(time_list)"
   ]
  },
  {
   "cell_type": "markdown",
   "id": "d7487ba9",
   "metadata": {},
   "source": [
    "<font color = blue><font size = 6> real_future_time prediction </font></font>"
   ]
  },
  {
   "cell_type": "code",
   "execution_count": 48,
   "id": "52680201",
   "metadata": {},
   "outputs": [],
   "source": [
    "device = torch.device('cuda:0')\n",
    "real_data = pd.DataFrame({'values':data[-split:].reshape(-1)})\n",
    "real_pred_list = []\n",
    "real_time_list = []\n",
    "for idx in range(split):\n",
    "    running_loss = 0.0\n",
    "    start = time.time()\n",
    "    new_df = pd.DataFrame({'values':real_pred_list[0:idx]})\n",
    "    if idx == 0:\n",
    "        new_train = torch.FloatTensor(\n",
    "            [real_data.iloc[-sequence_length:].values]\n",
    "        ).view(1,sequence_length,1).to(device)\n",
    "                \n",
    "    else:\n",
    "        new_train = torch.FloatTensor(\n",
    "            [pd.concat([real_data.iloc[-sequence_length+idx:],new_df],axis=0,ignore_index=True).values]\n",
    "        ).view(1,sequence_length,1).to(device)\n",
    "\n",
    "    real_out = model(new_train) # 예측완료\n",
    "    end = time.time()\n",
    "    real_pred_list.append(real_out.cpu().view(1).item())\n",
    "    real_time_list.append(end-start)"
   ]
  },
  {
   "cell_type": "code",
   "execution_count": 50,
   "id": "e4c0f153",
   "metadata": {},
   "outputs": [
    {
     "data": {
      "text/plain": [
       "<matplotlib.legend.Legend at 0x7f80595d0670>"
      ]
     },
     "execution_count": 50,
     "metadata": {},
     "output_type": "execute_result"
    },
    {
     "data": {
      "image/png": "[encoded data removed]",
      "text/plain": [
       "<Figure size 1200x800 with 1 Axes>"
      ]
     },
     "metadata": {},
     "output_type": "display_data"
    }
   ],
   "source": [
    "fig,axes = plt.subplots(1,1,figsize=(12,8))\n",
    "axes.plot(np.arange(1,1441),real_pred_list,label='prediction')\n",
    "axes.legend()"
   ]
  },
  {
   "cell_type": "markdown",
   "id": "c6fbd896",
   "metadata": {},
   "source": [
    "1step prediction에서 정답값을 사용함으롬써 prediction을 error accumulkation이 보정됐다는 것을 알 수 있음"
   ]
  },
  {
   "cell_type": "markdown",
   "id": "43f17f47",
   "metadata": {},
   "source": [
    "<font color = blue><font size = 6> Conclusion </font></font><br>\n",
    "DLinear와 NLinear에 비해서 모델도 복잡하고 정확도도 떨어져서 RNN계열은 1step point forecasting에 적합하지 않은것으로 판단된다"
   ]
  }
 ],
 "metadata": {
  "kernelspec": {
   "display_name": "sj_virtual",
   "language": "python",
   "name": "myvenv"
  },
  "language_info": {
   "codemirror_mode": {
    "name": "ipython",
    "version": 3
   },
   "file_extension": ".py",
   "mimetype": "text/x-python",
   "name": "python",
   "nbconvert_exporter": "python",
   "pygments_lexer": "ipython3",
   "version": "3.8.10"
  },
  "varInspector": {
   "cols": {
    "lenName": 16,
    "lenType": 16,
    "lenVar": 40
   },
   "kernels_config": {
    "python": {
     "delete_cmd_postfix": "",
     "delete_cmd_prefix": "del ",
     "library": "var_list.py",
     "varRefreshCmd": "print(var_dic_list())"
    },
    "r": {
     "delete_cmd_postfix": ") ",
     "delete_cmd_prefix": "rm(",
     "library": "var_list.r",
     "varRefreshCmd": "cat(var_dic_list()) "
    }
   },
   "types_to_exclude": [
    "module",
    "function",
    "builtin_function_or_method",
    "instance",
    "_Feature"
   ],
   "window_display": false
  }
 },
 "nbformat": 4,
 "nbformat_minor": 5
}

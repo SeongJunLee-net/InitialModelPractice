{
 "cells": [
  {
   "cell_type": "code",
   "execution_count": 119,
   "id": "099d391a",
   "metadata": {},
   "outputs": [],
   "source": [
    "import pandas as pd\n",
    "from sklearn.preprocessing import MinMaxScaler\n",
    "import torch\n",
    "import torch.nn as nn\n",
    "import torch.optim as optim\n",
    "import torch.functional as F\n",
    "from torch.utils.data import TensorDataset,DataLoader\n",
    "import matplotlib.pyplot as plt"
   ]
  },
  {
   "cell_type": "code",
   "execution_count": 120,
   "id": "46415830",
   "metadata": {},
   "outputs": [
    {
     "data": {
      "text/html": [
       "<div>\n",
       "<style scoped>\n",
       "    .dataframe tbody tr th:only-of-type {\n",
       "        vertical-align: middle;\n",
       "    }\n",
       "\n",
       "    .dataframe tbody tr th {\n",
       "        vertical-align: top;\n",
       "    }\n",
       "\n",
       "    .dataframe thead th {\n",
       "        text-align: right;\n",
       "    }\n",
       "</style>\n",
       "<table border=\"1\" class=\"dataframe\">\n",
       "  <thead>\n",
       "    <tr style=\"text-align: right;\">\n",
       "      <th></th>\n",
       "      <th>service_name</th>\n",
       "      <th>datetime</th>\n",
       "      <th>volumn</th>\n",
       "      <th>packets</th>\n",
       "      <th>unknown</th>\n",
       "    </tr>\n",
       "  </thead>\n",
       "  <tbody>\n",
       "    <tr>\n",
       "      <th>0</th>\n",
       "      <td>S201709282113260015</td>\n",
       "      <td>2018-07-25 00:00:00</td>\n",
       "      <td>92408</td>\n",
       "      <td>26971036</td>\n",
       "      <td>177711644</td>\n",
       "    </tr>\n",
       "    <tr>\n",
       "      <th>1</th>\n",
       "      <td>S201709282113260015</td>\n",
       "      <td>2018-07-25 00:01:00</td>\n",
       "      <td>92150</td>\n",
       "      <td>26948190</td>\n",
       "      <td>220370286</td>\n",
       "    </tr>\n",
       "    <tr>\n",
       "      <th>2</th>\n",
       "      <td>S201709282113260015</td>\n",
       "      <td>2018-07-25 00:02:00</td>\n",
       "      <td>94896</td>\n",
       "      <td>26238222</td>\n",
       "      <td>188035073</td>\n",
       "    </tr>\n",
       "    <tr>\n",
       "      <th>3</th>\n",
       "      <td>S201709282113260015</td>\n",
       "      <td>2018-07-25 00:03:00</td>\n",
       "      <td>92694</td>\n",
       "      <td>26087970</td>\n",
       "      <td>191997884</td>\n",
       "    </tr>\n",
       "    <tr>\n",
       "      <th>4</th>\n",
       "      <td>S201709282113260015</td>\n",
       "      <td>2018-07-25 00:04:00</td>\n",
       "      <td>93674</td>\n",
       "      <td>25314568</td>\n",
       "      <td>169497214</td>\n",
       "    </tr>\n",
       "    <tr>\n",
       "      <th>...</th>\n",
       "      <td>...</td>\n",
       "      <td>...</td>\n",
       "      <td>...</td>\n",
       "      <td>...</td>\n",
       "      <td>...</td>\n",
       "    </tr>\n",
       "    <tr>\n",
       "      <th>38875</th>\n",
       "      <td>S201709282113260015</td>\n",
       "      <td>2018-08-20 23:55:00</td>\n",
       "      <td>81521</td>\n",
       "      <td>23637112</td>\n",
       "      <td>138239574</td>\n",
       "    </tr>\n",
       "    <tr>\n",
       "      <th>38876</th>\n",
       "      <td>S201709282113260015</td>\n",
       "      <td>2018-08-20 23:56:00</td>\n",
       "      <td>83092</td>\n",
       "      <td>24617816</td>\n",
       "      <td>164460450</td>\n",
       "    </tr>\n",
       "    <tr>\n",
       "      <th>38877</th>\n",
       "      <td>S201709282113260015</td>\n",
       "      <td>2018-08-20 23:57:00</td>\n",
       "      <td>84873</td>\n",
       "      <td>25101336</td>\n",
       "      <td>173568370</td>\n",
       "    </tr>\n",
       "    <tr>\n",
       "      <th>38878</th>\n",
       "      <td>S201709282113260015</td>\n",
       "      <td>2018-08-20 23:58:00</td>\n",
       "      <td>81736</td>\n",
       "      <td>24181689</td>\n",
       "      <td>157334718</td>\n",
       "    </tr>\n",
       "    <tr>\n",
       "      <th>38879</th>\n",
       "      <td>S201709282113260015</td>\n",
       "      <td>2018-08-20 23:59:00</td>\n",
       "      <td>81236</td>\n",
       "      <td>23841156</td>\n",
       "      <td>167331442</td>\n",
       "    </tr>\n",
       "  </tbody>\n",
       "</table>\n",
       "<p>38880 rows × 5 columns</p>\n",
       "</div>"
      ],
      "text/plain": [
       "              service_name             datetime  volumn   packets    unknown\n",
       "0      S201709282113260015  2018-07-25 00:00:00   92408  26971036  177711644\n",
       "1      S201709282113260015  2018-07-25 00:01:00   92150  26948190  220370286\n",
       "2      S201709282113260015  2018-07-25 00:02:00   94896  26238222  188035073\n",
       "3      S201709282113260015  2018-07-25 00:03:00   92694  26087970  191997884\n",
       "4      S201709282113260015  2018-07-25 00:04:00   93674  25314568  169497214\n",
       "...                    ...                  ...     ...       ...        ...\n",
       "38875  S201709282113260015  2018-08-20 23:55:00   81521  23637112  138239574\n",
       "38876  S201709282113260015  2018-08-20 23:56:00   83092  24617816  164460450\n",
       "38877  S201709282113260015  2018-08-20 23:57:00   84873  25101336  173568370\n",
       "38878  S201709282113260015  2018-08-20 23:58:00   81736  24181689  157334718\n",
       "38879  S201709282113260015  2018-08-20 23:59:00   81236  23841156  167331442\n",
       "\n",
       "[38880 rows x 5 columns]"
      ]
     },
     "execution_count": 120,
     "metadata": {},
     "output_type": "execute_result"
    }
   ],
   "source": [
    "data = pd.read_csv('../traffic/data/5.csv')\n",
    "data"
   ]
  },
  {
   "cell_type": "code",
   "execution_count": 121,
   "id": "55f12a95",
   "metadata": {},
   "outputs": [
    {
     "data": {
      "text/plain": [
       "dtype('<M8[ns]')"
      ]
     },
     "execution_count": 121,
     "metadata": {},
     "output_type": "execute_result"
    }
   ],
   "source": [
    "data['datetime'] = pd.to_datetime(data['datetime'])\n",
    "data['datetime'].dtypes"
   ]
  },
  {
   "cell_type": "code",
   "execution_count": 122,
   "id": "68542a89",
   "metadata": {},
   "outputs": [],
   "source": [
    "data.drop(columns=['unknown','service_name','packets'],inplace = True)"
   ]
  },
  {
   "cell_type": "code",
   "execution_count": 123,
   "id": "b164a1bb",
   "metadata": {},
   "outputs": [
    {
     "data": {
      "text/html": [
       "<div>\n",
       "<style scoped>\n",
       "    .dataframe tbody tr th:only-of-type {\n",
       "        vertical-align: middle;\n",
       "    }\n",
       "\n",
       "    .dataframe tbody tr th {\n",
       "        vertical-align: top;\n",
       "    }\n",
       "\n",
       "    .dataframe thead th {\n",
       "        text-align: right;\n",
       "    }\n",
       "</style>\n",
       "<table border=\"1\" class=\"dataframe\">\n",
       "  <thead>\n",
       "    <tr style=\"text-align: right;\">\n",
       "      <th></th>\n",
       "      <th>datetime</th>\n",
       "      <th>volumn</th>\n",
       "    </tr>\n",
       "  </thead>\n",
       "  <tbody>\n",
       "    <tr>\n",
       "      <th>0</th>\n",
       "      <td>2018-07-25 00:00:00</td>\n",
       "      <td>0.148677</td>\n",
       "    </tr>\n",
       "    <tr>\n",
       "      <th>1</th>\n",
       "      <td>2018-07-25 00:01:00</td>\n",
       "      <td>0.148146</td>\n",
       "    </tr>\n",
       "    <tr>\n",
       "      <th>2</th>\n",
       "      <td>2018-07-25 00:02:00</td>\n",
       "      <td>0.153802</td>\n",
       "    </tr>\n",
       "    <tr>\n",
       "      <th>3</th>\n",
       "      <td>2018-07-25 00:03:00</td>\n",
       "      <td>0.149266</td>\n",
       "    </tr>\n",
       "    <tr>\n",
       "      <th>4</th>\n",
       "      <td>2018-07-25 00:04:00</td>\n",
       "      <td>0.151285</td>\n",
       "    </tr>\n",
       "    <tr>\n",
       "      <th>...</th>\n",
       "      <td>...</td>\n",
       "      <td>...</td>\n",
       "    </tr>\n",
       "    <tr>\n",
       "      <th>38875</th>\n",
       "      <td>2018-08-20 23:55:00</td>\n",
       "      <td>0.126251</td>\n",
       "    </tr>\n",
       "    <tr>\n",
       "      <th>38876</th>\n",
       "      <td>2018-08-20 23:56:00</td>\n",
       "      <td>0.129487</td>\n",
       "    </tr>\n",
       "    <tr>\n",
       "      <th>38877</th>\n",
       "      <td>2018-08-20 23:57:00</td>\n",
       "      <td>0.133156</td>\n",
       "    </tr>\n",
       "    <tr>\n",
       "      <th>38878</th>\n",
       "      <td>2018-08-20 23:58:00</td>\n",
       "      <td>0.126694</td>\n",
       "    </tr>\n",
       "    <tr>\n",
       "      <th>38879</th>\n",
       "      <td>2018-08-20 23:59:00</td>\n",
       "      <td>0.125664</td>\n",
       "    </tr>\n",
       "  </tbody>\n",
       "</table>\n",
       "<p>38880 rows × 2 columns</p>\n",
       "</div>"
      ],
      "text/plain": [
       "                 datetime    volumn\n",
       "0     2018-07-25 00:00:00  0.148677\n",
       "1     2018-07-25 00:01:00  0.148146\n",
       "2     2018-07-25 00:02:00  0.153802\n",
       "3     2018-07-25 00:03:00  0.149266\n",
       "4     2018-07-25 00:04:00  0.151285\n",
       "...                   ...       ...\n",
       "38875 2018-08-20 23:55:00  0.126251\n",
       "38876 2018-08-20 23:56:00  0.129487\n",
       "38877 2018-08-20 23:57:00  0.133156\n",
       "38878 2018-08-20 23:58:00  0.126694\n",
       "38879 2018-08-20 23:59:00  0.125664\n",
       "\n",
       "[38880 rows x 2 columns]"
      ]
     },
     "execution_count": 123,
     "metadata": {},
     "output_type": "execute_result"
    }
   ],
   "source": [
    "scaler = MinMaxScaler()\n",
    "data[['volumn']] = scaler.fit_transform(data[['volumn']])\n",
    "data"
   ]
  },
  {
   "cell_type": "code",
   "execution_count": 124,
   "id": "fdd38f13",
   "metadata": {},
   "outputs": [],
   "source": [
    "device = torch.device(\"cuda:0\")"
   ]
  },
  {
   "cell_type": "code",
   "execution_count": 161,
   "id": "0e5f4acc",
   "metadata": {},
   "outputs": [],
   "source": [
    "def seq_data(x,y,sequence_length,pred_len):\n",
    "    x_seq = []\n",
    "    target = []\n",
    "    for i in range(len(x)-sequence_length):\n",
    "        x_seq.append(x[i:i+sequence_length])\n",
    "        target.append(y[i+sequence_length:i+sequence_length+pred_len])\n",
    "    return torch.FloatTensor(x_seq).to(device), torch.FloatTensor(target).view(-1,pred_len,1).to(device)"
   ]
  },
  {
   "cell_type": "code",
   "execution_count": 162,
   "id": "4bf2e3b7",
   "metadata": {},
   "outputs": [],
   "source": [
    "split = 1800\n",
    "sequence_length = 1440\n",
    "hidden_size = 8\n",
    "pred_len = 360\n",
    "X = data[['volumn']].values[:-split]\n",
    "Y = data['volumn'].values\n",
    "x_seq, target = seq_data(x=X,y=Y,sequence_length=sequence_length,pred_len=pred_len)"
   ]
  },
  {
   "cell_type": "code",
   "execution_count": 163,
   "id": "ca0e7caf",
   "metadata": {
    "scrolled": true
   },
   "outputs": [
    {
     "data": {
      "text/plain": [
       "tensor([[[0.1487],\n",
       "         [0.1481],\n",
       "         [0.1538],\n",
       "         ...,\n",
       "         [0.1609],\n",
       "         [0.1565],\n",
       "         [0.1615]],\n",
       "\n",
       "        [[0.1481],\n",
       "         [0.1538],\n",
       "         [0.1493],\n",
       "         ...,\n",
       "         [0.1565],\n",
       "         [0.1615],\n",
       "         [0.1608]],\n",
       "\n",
       "        [[0.1538],\n",
       "         [0.1493],\n",
       "         [0.1513],\n",
       "         ...,\n",
       "         [0.1615],\n",
       "         [0.1608],\n",
       "         [0.1595]],\n",
       "\n",
       "        ...,\n",
       "\n",
       "        [[0.7701],\n",
       "         [0.7704],\n",
       "         [0.7689],\n",
       "         ...,\n",
       "         [0.6045],\n",
       "         [0.6087],\n",
       "         [0.5977]],\n",
       "\n",
       "        [[0.7704],\n",
       "         [0.7689],\n",
       "         [0.7751],\n",
       "         ...,\n",
       "         [0.6087],\n",
       "         [0.5977],\n",
       "         [0.6019]],\n",
       "\n",
       "        [[0.7689],\n",
       "         [0.7751],\n",
       "         [0.7639],\n",
       "         ...,\n",
       "         [0.5977],\n",
       "         [0.6019],\n",
       "         [0.6067]]], device='cuda:0')"
      ]
     },
     "execution_count": 163,
     "metadata": {},
     "output_type": "execute_result"
    }
   ],
   "source": [
    "x_seq"
   ]
  },
  {
   "cell_type": "code",
   "execution_count": 164,
   "id": "a21807b5",
   "metadata": {},
   "outputs": [
    {
     "data": {
      "text/plain": [
       "tensor([[[0.1608],\n",
       "         [0.1595],\n",
       "         [0.1558],\n",
       "         ...,\n",
       "         [0.1186],\n",
       "         [0.1238],\n",
       "         [0.1236]],\n",
       "\n",
       "        [[0.1595],\n",
       "         [0.1558],\n",
       "         [0.1565],\n",
       "         ...,\n",
       "         [0.1238],\n",
       "         [0.1236],\n",
       "         [0.1368]],\n",
       "\n",
       "        [[0.1558],\n",
       "         [0.1565],\n",
       "         [0.1538],\n",
       "         ...,\n",
       "         [0.1236],\n",
       "         [0.1368],\n",
       "         [0.1387]],\n",
       "\n",
       "        ...,\n",
       "\n",
       "        [[0.6019],\n",
       "         [0.6067],\n",
       "         [0.6068],\n",
       "         ...,\n",
       "         [0.1075],\n",
       "         [0.1085],\n",
       "         [0.1086]],\n",
       "\n",
       "        [[0.6067],\n",
       "         [0.6068],\n",
       "         [0.6064],\n",
       "         ...,\n",
       "         [0.1085],\n",
       "         [0.1086],\n",
       "         [0.1072]],\n",
       "\n",
       "        [[0.6068],\n",
       "         [0.6064],\n",
       "         [0.6005],\n",
       "         ...,\n",
       "         [0.1086],\n",
       "         [0.1072],\n",
       "         [0.1044]]], device='cuda:0')"
      ]
     },
     "execution_count": 164,
     "metadata": {},
     "output_type": "execute_result"
    }
   ],
   "source": [
    "target"
   ]
  },
  {
   "cell_type": "code",
   "execution_count": 165,
   "id": "35790747",
   "metadata": {},
   "outputs": [],
   "source": [
    "batch_size = 64\n",
    "train = TensorDataset(x_seq,target)\n",
    "train_loader = DataLoader(dataset = train,batch_size = batch_size)\n",
    "# shuffle 제거"
   ]
  },
  {
   "cell_type": "code",
   "execution_count": 166,
   "id": "a5c0f23c",
   "metadata": {},
   "outputs": [],
   "source": [
    "input_size = x_seq.size(2)\n",
    "num_layers = 2\n",
    "hidden_size = 8 #batch_first = True로 해두면 (batch_size X sequence_length X hidden_size)로 나오게 된다"
   ]
  },
  {
   "cell_type": "code",
   "execution_count": 167,
   "id": "657e9f3e",
   "metadata": {},
   "outputs": [],
   "source": [
    "class VanillaRNN(nn.Module):\n",
    "    \n",
    "    def __init__(self,input_size,hidden_size,sequence_length,num_layers,device):\n",
    "        super(VanillaRNN,self).__init__()\n",
    "        self.device = device\n",
    "        self.hidden_size = hidden_size\n",
    "        self.num_layers = num_layers\n",
    "        self.rnn = nn.RNN(input_size,hidden_size,num_layers,batch_first = True)\n",
    "        # input_size는 feature 개수를 의미함\n",
    "        # hidden_size는 hidden_state의 feature 개수를 의미함 즉 hidden_vector의 크기\n",
    "        self.fc = nn.Sequential(nn.Linear(hidden_size,1))\n",
    "   \n",
    "    def forward(self,x):\n",
    "        h0 = torch.zeros(self.num_layers,x.size()[0],self.hidden_size).to(self.device)\n",
    "        out,h_n = self.rnn(x,h0) #out 크기 (batchsize,length,feature size)\n",
    "        # out크기를 보니 여기서 rnn은 many to many 즉 전체 입력에 대해 전체 출력이 나온다 \n",
    "        # out = out.reshape(out.shape[0],-1)\n",
    "        out = self.fc(out) \n",
    "        out = torch.index_select(out.cpu(),dim=1,index=torch.LongTensor([i for i in range(sequence_length-pred_len,sequence_length)])) #파이토치 indexing을 구체적으로 하는방법\n",
    "        out = out.to(device)\n",
    "        return out"
   ]
  },
  {
   "cell_type": "code",
   "execution_count": 168,
   "id": "03c2166d",
   "metadata": {},
   "outputs": [],
   "source": [
    "from torch.nn import L1Loss"
   ]
  },
  {
   "cell_type": "code",
   "execution_count": 169,
   "id": "a7c81844",
   "metadata": {},
   "outputs": [],
   "source": [
    "model = VanillaRNN(input_size = input_size, hidden_size = hidden_size, sequence_length = sequence_length,\n",
    "                  num_layers = num_layers, device=device).to(device) # GPU 연산을 위한 to(device)\n",
    "criterion = L1Loss()\n",
    "num_epochs = 100\n",
    "optimizer = optim.Adam(model.parameters(),lr=1e-3,)\n"
   ]
  },
  {
   "cell_type": "code",
   "execution_count": 170,
   "id": "ba598b15",
   "metadata": {
    "scrolled": true
   },
   "outputs": [
    {
     "name": "stdout",
     "output_type": "stream",
     "text": [
      "mae 0.268269087597594\n",
      "mae 0.26069537821749167\n",
      "mae 0.25931559191411446\n",
      "mae 0.2585616295411514\n",
      "mae 0.2580917553049872\n",
      "mae 0.25776640822044183\n",
      "mae 0.2575099168067775\n",
      "mae 0.2572960947076765\n",
      "mae 0.2571244539435505\n",
      "mae 0.25703746009504347\n",
      "mae 0.25691824722065315\n",
      "mae 0.2568096465814049\n",
      "mae 0.256799515891867\n",
      "mae 0.25669977652106296\n",
      "mae 0.256604165547733\n",
      "mae 0.2565882619289778\n",
      "mae 0.2564821343474371\n",
      "mae 0.2564392535540959\n",
      "mae 0.25637176821486524\n",
      "mae 0.25636862987515313\n",
      "mae 0.25632586683308844\n",
      "mae 0.2562753110588988\n",
      "mae 0.2562915113231224\n",
      "mae 0.2562646010432466\n",
      "mae 0.25625633301223416\n",
      "mae 0.25622620059033485\n",
      "mae 0.25620472011168083\n",
      "mae 0.2562007454208883\n",
      "mae 0.25618094877344916\n",
      "mae 0.25616333200270225\n",
      "mae 0.2565299119646502\n",
      "mae 0.2560879991555342\n",
      "mae 0.256100415648421\n",
      "mae 0.2560922603258325\n",
      "mae 0.2560852889767455\n",
      "mae 0.2560732395553717\n",
      "mae 0.25604185401804785\n",
      "mae 0.25605089989234986\n",
      "mae 0.25602667635604337\n",
      "mae 0.2560348531876689\n",
      "mae 0.2559954603361484\n",
      "mae 0.25596785812874456\n",
      "mae 0.2559723147263005\n",
      "mae 0.25594765921683454\n",
      "mae 0.2559289393856239\n",
      "mae 0.2559229527170397\n",
      "mae 0.25588093054626315\n",
      "mae 0.2558749170582641\n",
      "mae 0.25582240595477274\n",
      "mae 0.2558182114651644\n",
      "mae 0.25600954268254755\n",
      "mae 0.2555948485297617\n",
      "mae 0.2571518488857006\n",
      "mae 0.2565338597022652\n",
      "mae 0.25631137335375354\n",
      "mae 0.25630338118149093\n",
      "mae 0.25620481145820667\n",
      "mae 0.25616123440342703\n",
      "mae 0.2565052682129228\n",
      "mae 0.256009200651406\n",
      "mae 0.25615543192603646\n",
      "mae 0.2559841480808369\n",
      "mae 0.25597123574311687\n",
      "mae 0.25595526398565865\n",
      "mae 0.2558888677955744\n",
      "mae 0.25577677484046624\n",
      "mae 0.2558144955382527\n",
      "mae 0.2556972493496147\n",
      "mae 0.25559810352389645\n",
      "mae 0.25558042785744695\n",
      "mae 0.25541228624445317\n",
      "mae 0.2553899512497484\n",
      "mae 0.25527697741396765\n",
      "mae 0.2552531096060999\n",
      "mae 0.25523348972602633\n",
      "mae 0.2553430371508136\n",
      "mae 0.25551315912010425\n",
      "mae 0.2552729888921152\n",
      "mae 0.25531602082389476\n",
      "mae 0.25516975877047443\n",
      "mae 0.2571157265581605\n",
      "mae 0.25584870289268785\n",
      "mae 0.2556575772819014\n",
      "mae 0.2555489778331409\n",
      "mae 0.25541850876337324\n",
      "mae 0.2553647903180422\n",
      "mae 0.25528795423263706\n",
      "mae 0.25522760973316977\n",
      "mae 0.2552262348535887\n",
      "mae 0.255224301086829\n",
      "mae 0.25520318432224504\n",
      "mae 0.2552067914733553\n",
      "mae 0.2551968467941832\n",
      "mae 0.25524555814169897\n",
      "mae 0.2551778513851243\n",
      "mae 0.25539578454605766\n",
      "mae 0.2551699899792457\n",
      "mae 0.2552763642057696\n",
      "mae 0.2551722570424448\n",
      "mae 0.2552350281572214\n",
      "55700\n"
     ]
    }
   ],
   "source": [
    "import time\n",
    "count = 0\n",
    "\n",
    "loss_graph = []\n",
    "n = len(train_loader)\n",
    "begin = time.time()\n",
    "for epoch in range(num_epochs):\n",
    "\n",
    "    running_loss = 0.0\n",
    "    for dt in train_loader:\n",
    "        seq,target = dt\n",
    "        \n",
    "        out = model(seq)\n",
    "    \n",
    "        loss = criterion(out,target)# 손실함수 계산\n",
    "        \n",
    "        optimizer.zero_grad() # optimizer 초기화\n",
    "        \n",
    "        loss.backward()\n",
    "        \n",
    "        optimizer.step() # optimizer 최적화\n",
    "        \n",
    "        running_loss = running_loss + loss.item()\n",
    "        \n",
    "        count+=1\n",
    "    \n",
    "    loss_graph.append(running_loss/n)\n",
    "    print('mae',running_loss/n)\n",
    "end = time.time()\n",
    "#시간차\n",
    "result = end - begin\n",
    "print(count) # 64크기를 갖는 배치가 585개 있는데(마지막은 < 64) 이걸 50번 돌았음"
   ]
  },
  {
   "cell_type": "markdown",
   "id": "b93a6c6f",
   "metadata": {},
   "source": [
    "torch.no_grad()의 주된 목적은 autograd를 끔으로써 메모리 사용량을 줄이고 연산 속도를 높히기 위함이다. 사실상 어짜피 안쓸 gradient인데 inference시에 굳이 계산할 필요가 없지 않은가?\n",
    "\n",
    "그래서 일반적으로 inference를 진행할 때는 torch.no_grad() with statement로 감싼다는 사실을 알면 된다.\n",
    "model.eval()의 역할은 약간 다르다. 모델링 시 training과 inference시에 다르게 동작하는 layer들이 존재한다. 예를 들면, Dropout layer는 학습시에는 동작해야하지만, inference시에는 동작하지 않는 것과 같은 예시를 들 수 있다. BatchNorm같은 경우도 마찬가지다.\n",
    "\n",
    "사실상 model.eval()는 이런 layer들의 동작을 inference(eval) mode로 바꿔준다는 목적으로 사용된다. 따라서, 우리가 보통 원하는 모델의 동작을 위해서는 위의 두 가지를 모두 사용해야하는 것이 맞다."
   ]
  },
  {
   "cell_type": "markdown",
   "id": "b3894238",
   "metadata": {},
   "source": [
    "<font color = blue><font size = 6> 실제 데이터 예측모델 만들기 </font></font><br>\n",
    "예측한것을 다시 넣어서 예측해보겠다"
   ]
  },
  {
   "cell_type": "code",
   "execution_count": 171,
   "id": "7e4f24ff",
   "metadata": {},
   "outputs": [
    {
     "data": {
      "text/plain": [
       "1800"
      ]
     },
     "execution_count": 171,
     "metadata": {},
     "output_type": "execute_result"
    }
   ],
   "source": [
    "sequence_length+pred_len"
   ]
  },
  {
   "cell_type": "code",
   "execution_count": 177,
   "id": "501cecd8",
   "metadata": {
    "scrolled": true
   },
   "outputs": [
    {
     "data": {
      "text/plain": [
       "array([0.60640711, 0.6004746 , 0.6020463 , ..., 0.8160326 , 0.82437106,\n",
       "       0.81496557])"
      ]
     },
     "execution_count": 177,
     "metadata": {},
     "output_type": "execute_result"
    }
   ],
   "source": [
    "new_train = Y[-(sequence_length+pred_len):-(pred_len)]\n",
    "new_train"
   ]
  },
  {
   "cell_type": "code",
   "execution_count": 174,
   "id": "4421bb56",
   "metadata": {},
   "outputs": [
    {
     "data": {
      "text/plain": [
       "1440"
      ]
     },
     "execution_count": 174,
     "metadata": {},
     "output_type": "execute_result"
    }
   ],
   "source": [
    "len(new_train)"
   ]
  },
  {
   "cell_type": "code",
   "execution_count": 188,
   "id": "7b31537a",
   "metadata": {},
   "outputs": [
    {
     "data": {
      "text/plain": [
       "tensor([[[0.6064],\n",
       "         [0.6005],\n",
       "         [0.6020],\n",
       "         ...,\n",
       "         [0.8160],\n",
       "         [0.8244],\n",
       "         [0.8150]]])"
      ]
     },
     "execution_count": 188,
     "metadata": {},
     "output_type": "execute_result"
    }
   ],
   "source": [
    "torch.FloatTensor([new_train]).unsqueeze(2)"
   ]
  },
  {
   "cell_type": "code",
   "execution_count": 189,
   "id": "5cf5eff1",
   "metadata": {},
   "outputs": [],
   "source": [
    "out_list=[]\n",
    "\n",
    "with torch.no_grad():\n",
    "    model.eval()\n",
    "    new_tr = torch.FloatTensor([new_train]).unsqueeze(2).to(device)\n",
    "    out = model(new_tr)\n",
    "    # out_list.append(out)\n",
    "\n",
    "    #       new_train = torch.FloatTensor(new_train[1:].tolist()+out.cpu().tolist())#.view(-1,1).unsqueeze(0) data;pader를 안쓰고도 가능\n",
    "    #       print(new_train)\n"
   ]
  },
  {
   "cell_type": "code",
   "execution_count": 190,
   "id": "1f977d90",
   "metadata": {},
   "outputs": [
    {
     "data": {
      "text/plain": [
       "array([[0.42053348, 0.4256082 , 0.41959816, 0.42917353, 0.41689816,\n",
       "        0.42829907, 0.4195237 , 0.42549816, 0.42047265, 0.4282317 ,\n",
       "        0.41680753, 0.42915714, 0.4189043 , 0.42622337, 0.42109856,\n",
       "        0.42716366, 0.41757622, 0.42978853, 0.41837296, 0.42724365,\n",
       "        0.42126346, 0.42634517, 0.418629  , 0.43008047, 0.4174676 ,\n",
       "        0.42796755, 0.4204797 , 0.42582482, 0.4196382 , 0.4293626 ,\n",
       "        0.41694248, 0.42847878, 0.4196374 , 0.425565  , 0.42071116,\n",
       "        0.42806703, 0.41706252, 0.42912522, 0.4190615 , 0.42629084,\n",
       "        0.42128146, 0.4272036 , 0.4176484 , 0.42991975, 0.4183201 ,\n",
       "        0.4273906 , 0.42118922, 0.4264068 , 0.41871426, 0.43002906,\n",
       "        0.4175008 , 0.42794126, 0.42045778, 0.42578715, 0.4195991 ,\n",
       "        0.42926782, 0.41689518, 0.42848292, 0.41951433, 0.42559528,\n",
       "        0.420476  , 0.42812386, 0.41680223, 0.42914623, 0.41889223,\n",
       "        0.4262509 , 0.42122853, 0.42696747, 0.41768876, 0.42973226,\n",
       "        0.41828158, 0.42721745, 0.42117745, 0.42621455, 0.41869888,\n",
       "        0.42987388, 0.4173616 , 0.42787966, 0.4203143 , 0.4256526 ,\n",
       "        0.4196304 , 0.42908984, 0.4168434 , 0.4283973 , 0.41940153,\n",
       "        0.42552057, 0.42050582, 0.42800885, 0.41678178, 0.42917508,\n",
       "        0.41878128, 0.42630264, 0.42110437, 0.4269491 , 0.417609  ,\n",
       "        0.42983222, 0.41812333, 0.42730683, 0.4210653 , 0.4260946 ,\n",
       "        0.41873902, 0.42975938, 0.4173908 , 0.42775464, 0.4203263 ,\n",
       "        0.42551297, 0.419681  , 0.42894977, 0.41683066, 0.42832792,\n",
       "        0.41940504, 0.4255098 , 0.42060593, 0.4278909 , 0.41676778,\n",
       "        0.42925563, 0.41871786, 0.42641622, 0.4210715 , 0.42695865,\n",
       "        0.41759878, 0.42982712, 0.41795385, 0.42747796, 0.4208644 ,\n",
       "        0.4262545 , 0.4185655 , 0.42992705, 0.41716394, 0.4279158 ,\n",
       "        0.42020953, 0.42552567, 0.41977668, 0.42888874, 0.41681844,\n",
       "        0.42839617, 0.41934535, 0.42551804, 0.42065185, 0.42780125,\n",
       "        0.41694057, 0.42919636, 0.41878808, 0.42639264, 0.4212066 ,\n",
       "        0.42678896, 0.4177652 , 0.42982638, 0.4179973 , 0.4274507 ,\n",
       "        0.420878  , 0.4261126 , 0.41872495, 0.42979228, 0.41717666,\n",
       "        0.4279404 , 0.42007643, 0.4255759 , 0.41971374, 0.42893964,\n",
       "        0.4166838 , 0.428563  , 0.41918525, 0.42567426, 0.42045623,\n",
       "        0.42795837, 0.41674262, 0.4294853 , 0.4185205 , 0.4266786 ,\n",
       "        0.42107916, 0.42689508, 0.41780466, 0.429856  , 0.41798255,\n",
       "        0.42741916, 0.42097127, 0.42600518, 0.41890636, 0.4297433 ,\n",
       "        0.41713187, 0.42791963, 0.42003274, 0.42551038, 0.41976082,\n",
       "        0.42880893, 0.41660908, 0.42856252, 0.41906607, 0.42562503,\n",
       "        0.42057398, 0.4278122 , 0.41687348, 0.4293443 , 0.41868675,\n",
       "        0.42651814, 0.42114308, 0.42676187, 0.41787037, 0.42990017,\n",
       "        0.41794127, 0.4274705 , 0.42089367, 0.42601332, 0.41890335,\n",
       "        0.4297437 , 0.4171403 , 0.42796475, 0.42001757, 0.425524  ,\n",
       "        0.4198628 , 0.42883974, 0.41665503, 0.42865732, 0.41911983,\n",
       "        0.4257009 , 0.42063493, 0.42781693, 0.4168043 , 0.42954284,\n",
       "        0.41850796, 0.4267642 , 0.42112204, 0.42675084, 0.41791397,\n",
       "        0.42992502, 0.41784844, 0.42750788, 0.42089775, 0.42590842,\n",
       "        0.41899416, 0.42968962, 0.41711527, 0.4280061 , 0.41997194,\n",
       "        0.42555398, 0.4198954 , 0.42875782, 0.41662592, 0.428775  ,\n",
       "        0.41903076, 0.4257851 , 0.42065984, 0.42773643, 0.41693446,\n",
       "        0.42943835, 0.4185937 , 0.42670628, 0.42115566, 0.42673445,\n",
       "        0.41805017, 0.42993498, 0.4178355 , 0.4276257 , 0.420838  ,\n",
       "        0.42596382, 0.41904768, 0.42965806, 0.41721278, 0.427961  ,\n",
       "        0.42001665, 0.42549953, 0.4200808 , 0.4286803 , 0.4167074 ,\n",
       "        0.42878357, 0.4190455 , 0.42593914, 0.4206813 , 0.4277629 ,\n",
       "        0.41688567, 0.4296444 , 0.41838965, 0.4269505 , 0.42108047,\n",
       "        0.42672655, 0.4180364 , 0.4297667 , 0.41737548, 0.42733872,\n",
       "        0.42029598, 0.42541248, 0.41854262, 0.4291563 , 0.41648677,\n",
       "        0.4274662 , 0.41937837, 0.4248628 , 0.41959095, 0.427943  ,\n",
       "        0.41617984, 0.42807037, 0.41859484, 0.42509592, 0.4203499 ,\n",
       "        0.42681962, 0.4166948 , 0.42881382, 0.4181224 , 0.42615238,\n",
       "        0.42076164, 0.4259138 , 0.41761255, 0.42932758, 0.4170938 ,\n",
       "        0.42707574, 0.42018965, 0.42535457, 0.41849697, 0.42903042,\n",
       "        0.41641837, 0.42760527, 0.4191895 , 0.42508042, 0.4195094 ,\n",
       "        0.4282856 , 0.4159383 , 0.4284392 , 0.41823116, 0.42535126,\n",
       "        0.4201082 , 0.42698613, 0.41636527, 0.4289165 , 0.4178368 ,\n",
       "        0.42611608, 0.42064717, 0.42569825, 0.4176733 , 0.42911142,\n",
       "        0.41712123, 0.4268239 , 0.42015624, 0.42495307, 0.41858667,\n",
       "        0.428638  , 0.41648304, 0.42719796, 0.41930944, 0.42454988,\n",
       "        0.41952795, 0.4277415 , 0.41611683, 0.4282078 , 0.4183811 ,\n",
       "        0.4253055 , 0.42018485, 0.42686322, 0.41654277, 0.42889145,\n",
       "        0.41797742, 0.42620677, 0.42082265, 0.4257055 , 0.4178934 ,\n",
       "        0.4291342 , 0.4172659 , 0.42694604, 0.42022097, 0.42522192]],\n",
       "      dtype=float32)"
      ]
     },
     "execution_count": 190,
     "metadata": {},
     "output_type": "execute_result"
    }
   ],
   "source": [
    "predictions = np.array(out.cpu().view(1,-1))\n",
    "predictions"
   ]
  },
  {
   "cell_type": "code",
   "execution_count": 194,
   "id": "9d6ef590",
   "metadata": {},
   "outputs": [
    {
     "data": {
      "text/plain": [
       "<matplotlib.legend.Legend at 0x7f586b5c4070>"
      ]
     },
     "execution_count": 194,
     "metadata": {},
     "output_type": "execute_result"
    },
    {
     "data": {
      "image/png": "[encoded data removed]",
      "text/plain": [
       "<Figure size 1400x800 with 1 Axes>"
      ]
     },
     "metadata": {},
     "output_type": "display_data"
    }
   ],
   "source": [
    "fig,axes = plt.subplots(1,1,figsize=(14,8))\n",
    "axes.plot(np.arange(pred_len),data[['volumn']].values[-split+pred_len:-split+pred_len+pred_len],label='true')\n",
    "axes.plot(np.arange(pred_len),predictions[0],label='pred')\n",
    "plt.legend()"
   ]
  },
  {
   "cell_type": "code",
   "execution_count": null,
   "id": "2c4f86a8",
   "metadata": {},
   "outputs": [],
   "source": []
  }
 ],
 "metadata": {
  "kernelspec": {
   "display_name": "sj_virtual",
   "language": "python",
   "name": "myvenv"
  },
  "language_info": {
   "codemirror_mode": {
    "name": "ipython",
    "version": 3
   },
   "file_extension": ".py",
   "mimetype": "text/x-python",
   "name": "python",
   "nbconvert_exporter": "python",
   "pygments_lexer": "ipython3",
   "version": "3.8.10"
  },
  "varInspector": {
   "cols": {
    "lenName": 16,
    "lenType": 16,
    "lenVar": 40
   },
   "kernels_config": {
    "python": {
     "delete_cmd_postfix": "",
     "delete_cmd_prefix": "del ",
     "library": "var_list.py",
     "varRefreshCmd": "print(var_dic_list())"
    },
    "r": {
     "delete_cmd_postfix": ") ",
     "delete_cmd_prefix": "rm(",
     "library": "var_list.r",
     "varRefreshCmd": "cat(var_dic_list()) "
    }
   },
   "types_to_exclude": [
    "module",
    "function",
    "builtin_function_or_method",
    "instance",
    "_Feature"
   ],
   "window_display": false
  }
 },
 "nbformat": 4,
 "nbformat_minor": 5
}

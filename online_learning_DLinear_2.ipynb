{
 "cells": [
  {
   "cell_type": "markdown",
   "id": "ec2044ac",
   "metadata": {},
   "source": [
    "<font color = blue><font size = 6> 실험설명 </font></font><br>\n",
    "Pytorch의 모델 구성의 기본을 study하면서 DLinear를 implementation한 깃허브를 참고해서 이해하고 실험에 적용시켜본다 여기서 진행할 실험은<br>\n",
    "<font color = blue>Online-Learning 즉, 정답 값이 들어올 때 훈련을 하고 그 정답 값을 이용해서 다음 값을 예측한 것이다<font color =green> 이전에는 seasonality가 확실한 데이터에 대해서만 진행을 했다면 이제는 비교적 변동성이 큰 데이터에 대해서 진행을 해보겠다</font></font><br>\n",
    "[Reference]<br>\n",
    "https://github.com/cure-lab/LTSF-Linear/blob/main/models/DLinear.py <br>\n",
    "https://anweh.tistory.com/21"
   ]
  },
  {
   "cell_type": "code",
   "execution_count": 1,
   "id": "c8b3ae46",
   "metadata": {},
   "outputs": [],
   "source": [
    "import pandas as pd\n",
    "import numpy as np\n",
    "import matplotlib.pyplot as plt\n",
    "import time"
   ]
  },
  {
   "cell_type": "code",
   "execution_count": 2,
   "id": "d07d001c",
   "metadata": {},
   "outputs": [
    {
     "name": "stderr",
     "output_type": "stream",
     "text": [
      "/home/sjlee/sj_virtual/lib/python3.8/site-packages/tqdm/auto.py:22: TqdmWarning: IProgress not found. Please update jupyter and ipywidgets. See https://ipywidgets.readthedocs.io/en/stable/user_install.html\n",
      "  from .autonotebook import tqdm as notebook_tqdm\n"
     ]
    }
   ],
   "source": [
    "import torch\n",
    "import torch.nn as nn\n",
    "from pytorch_forecasting.metrics import SMAPE\n",
    "from torch.utils.data import DataLoader,TensorDataset\n",
    "from torch import FloatTensor\n",
    "from torch.optim import Adam"
   ]
  },
  {
   "cell_type": "code",
   "execution_count": 5,
   "id": "1cd0f895",
   "metadata": {
    "scrolled": true
   },
   "outputs": [
    {
     "data": {
      "text/html": [
       "<div>\n",
       "<style scoped>\n",
       "    .dataframe tbody tr th:only-of-type {\n",
       "        vertical-align: middle;\n",
       "    }\n",
       "\n",
       "    .dataframe tbody tr th {\n",
       "        vertical-align: top;\n",
       "    }\n",
       "\n",
       "    .dataframe thead th {\n",
       "        text-align: right;\n",
       "    }\n",
       "</style>\n",
       "<table border=\"1\" class=\"dataframe\">\n",
       "  <thead>\n",
       "    <tr style=\"text-align: right;\">\n",
       "      <th></th>\n",
       "      <th>datetime</th>\n",
       "      <th>sales</th>\n",
       "    </tr>\n",
       "  </thead>\n",
       "  <tbody>\n",
       "    <tr>\n",
       "      <th>0</th>\n",
       "      <td>2020-05-01 00:00:00</td>\n",
       "      <td>27</td>\n",
       "    </tr>\n",
       "    <tr>\n",
       "      <th>1</th>\n",
       "      <td>2020-05-02 00:00:00</td>\n",
       "      <td>37</td>\n",
       "    </tr>\n",
       "    <tr>\n",
       "      <th>2</th>\n",
       "      <td>2020-05-03 00:00:00</td>\n",
       "      <td>33</td>\n",
       "    </tr>\n",
       "    <tr>\n",
       "      <th>3</th>\n",
       "      <td>2020-05-04 00:00:00</td>\n",
       "      <td>26</td>\n",
       "    </tr>\n",
       "    <tr>\n",
       "      <th>4</th>\n",
       "      <td>2020-05-05 00:00:00</td>\n",
       "      <td>30</td>\n",
       "    </tr>\n",
       "    <tr>\n",
       "      <th>...</th>\n",
       "      <td>...</td>\n",
       "      <td>...</td>\n",
       "    </tr>\n",
       "    <tr>\n",
       "      <th>725</th>\n",
       "      <td>2022-04-26 00:00:00</td>\n",
       "      <td>25</td>\n",
       "    </tr>\n",
       "    <tr>\n",
       "      <th>726</th>\n",
       "      <td>2022-04-27 00:00:00</td>\n",
       "      <td>25</td>\n",
       "    </tr>\n",
       "    <tr>\n",
       "      <th>727</th>\n",
       "      <td>2022-04-28 00:00:00</td>\n",
       "      <td>29</td>\n",
       "    </tr>\n",
       "    <tr>\n",
       "      <th>728</th>\n",
       "      <td>2022-04-29 00:00:00</td>\n",
       "      <td>21</td>\n",
       "    </tr>\n",
       "    <tr>\n",
       "      <th>729</th>\n",
       "      <td>2022-04-30 00:00:00</td>\n",
       "      <td>25</td>\n",
       "    </tr>\n",
       "  </tbody>\n",
       "</table>\n",
       "<p>730 rows × 2 columns</p>\n",
       "</div>"
      ],
      "text/plain": [
       "                datetime  sales\n",
       "0    2020-05-01 00:00:00     27\n",
       "1    2020-05-02 00:00:00     37\n",
       "2    2020-05-03 00:00:00     33\n",
       "3    2020-05-04 00:00:00     26\n",
       "4    2020-05-05 00:00:00     30\n",
       "..                   ...    ...\n",
       "725  2022-04-26 00:00:00     25\n",
       "726  2022-04-27 00:00:00     25\n",
       "727  2022-04-28 00:00:00     29\n",
       "728  2022-04-29 00:00:00     21\n",
       "729  2022-04-30 00:00:00     25\n",
       "\n",
       "[730 rows x 2 columns]"
      ]
     },
     "execution_count": 5,
     "metadata": {},
     "output_type": "execute_result"
    }
   ],
   "source": [
    "data = pd.read_csv('../data/sales.csv',names=['datetime','sales'])\n",
    "data"
   ]
  },
  {
   "cell_type": "code",
   "execution_count": 6,
   "id": "604aaa2e",
   "metadata": {},
   "outputs": [
    {
     "data": {
      "text/html": [
       "<div>\n",
       "<style scoped>\n",
       "    .dataframe tbody tr th:only-of-type {\n",
       "        vertical-align: middle;\n",
       "    }\n",
       "\n",
       "    .dataframe tbody tr th {\n",
       "        vertical-align: top;\n",
       "    }\n",
       "\n",
       "    .dataframe thead th {\n",
       "        text-align: right;\n",
       "    }\n",
       "</style>\n",
       "<table border=\"1\" class=\"dataframe\">\n",
       "  <thead>\n",
       "    <tr style=\"text-align: right;\">\n",
       "      <th></th>\n",
       "      <th>sales</th>\n",
       "    </tr>\n",
       "  </thead>\n",
       "  <tbody>\n",
       "    <tr>\n",
       "      <th>0</th>\n",
       "      <td>27</td>\n",
       "    </tr>\n",
       "    <tr>\n",
       "      <th>1</th>\n",
       "      <td>37</td>\n",
       "    </tr>\n",
       "    <tr>\n",
       "      <th>2</th>\n",
       "      <td>33</td>\n",
       "    </tr>\n",
       "    <tr>\n",
       "      <th>3</th>\n",
       "      <td>26</td>\n",
       "    </tr>\n",
       "    <tr>\n",
       "      <th>4</th>\n",
       "      <td>30</td>\n",
       "    </tr>\n",
       "    <tr>\n",
       "      <th>...</th>\n",
       "      <td>...</td>\n",
       "    </tr>\n",
       "    <tr>\n",
       "      <th>725</th>\n",
       "      <td>25</td>\n",
       "    </tr>\n",
       "    <tr>\n",
       "      <th>726</th>\n",
       "      <td>25</td>\n",
       "    </tr>\n",
       "    <tr>\n",
       "      <th>727</th>\n",
       "      <td>29</td>\n",
       "    </tr>\n",
       "    <tr>\n",
       "      <th>728</th>\n",
       "      <td>21</td>\n",
       "    </tr>\n",
       "    <tr>\n",
       "      <th>729</th>\n",
       "      <td>25</td>\n",
       "    </tr>\n",
       "  </tbody>\n",
       "</table>\n",
       "<p>730 rows × 1 columns</p>\n",
       "</div>"
      ],
      "text/plain": [
       "     sales\n",
       "0       27\n",
       "1       37\n",
       "2       33\n",
       "3       26\n",
       "4       30\n",
       "..     ...\n",
       "725     25\n",
       "726     25\n",
       "727     29\n",
       "728     21\n",
       "729     25\n",
       "\n",
       "[730 rows x 1 columns]"
      ]
     },
     "execution_count": 6,
     "metadata": {},
     "output_type": "execute_result"
    }
   ],
   "source": [
    "data.drop(columns=['datetime'],inplace=True)\n",
    "data"
   ]
  },
  {
   "cell_type": "code",
   "execution_count": 7,
   "id": "fd4ca659",
   "metadata": {},
   "outputs": [
    {
     "data": {
      "text/plain": [
       "['/hdd_1/sjlee/Model_Implementation/online_learning_DLinear_sales']"
      ]
     },
     "execution_count": 7,
     "metadata": {},
     "output_type": "execute_result"
    }
   ],
   "source": [
    "import configparser\n",
    "import os\n",
    "config = configparser.ConfigParser()\n",
    "config['online_learning_DLinear_sales']= {\n",
    "    'seq_len':14,\n",
    "    'pred_len':1,\n",
    "    'individual':bool(False),\n",
    "    'enc_in':1\n",
    "}\n",
    "with open('online_learning_DLinear_sales','w') as f:\n",
    "    config.write(f)\n",
    "    \n",
    "config.read(os.getcwd()+os.sep+'online_learning_DLinear_sales')"
   ]
  },
  {
   "cell_type": "code",
   "execution_count": 8,
   "id": "0c7e7687",
   "metadata": {},
   "outputs": [],
   "source": [
    "class moving_avg(nn.Module):\n",
    "    \"\"\"\n",
    "    Moving average block to highlight the trend of time series\n",
    "    \"\"\"\n",
    "    def __init__(self, kernel_size, stride):\n",
    "        super(moving_avg, self).__init__()\n",
    "        self.kernel_size = kernel_size\n",
    "        self.avg = nn.AvgPool1d(kernel_size=kernel_size, stride=stride, padding=0)\n",
    "\n",
    "    def forward(self, x):\n",
    "        \n",
    "        x = x.permute(0, 2, 1)\n",
    "        # padding on the both ends of time series\n",
    "        front = x[:, 0:1, :].repeat(1, (self.kernel_size - 1) // 2, 1)\n",
    "        \n",
    "        end = x[:, -1:, :].repeat(1, (self.kernel_size - 1) // 2, 1)\n",
    "\n",
    "        x = torch.cat([front, x, end], dim=1)\n",
    "       \n",
    "        x = self.avg(x.permute(0,2,1))\n",
    "\n",
    "        return x"
   ]
  },
  {
   "cell_type": "code",
   "execution_count": 9,
   "id": "bc3baf05",
   "metadata": {},
   "outputs": [],
   "source": [
    "class series_decomp(nn.Module):\n",
    "    \"statsmodels.tsa의 seasonal_decompose와 역할이 똑같다\"\n",
    "    def __init__(self,kernel_size):\n",
    "        super(series_decomp,self).__init__()\n",
    "        self.moving_avg = moving_avg(kernel_size,stride = 1)\n",
    "    \n",
    "    def forward(self,x):\n",
    "        moving_mean = self.moving_avg(x) #output은 (batch,sequence_length,input_size)\n",
    "\n",
    "        res = x - moving_mean \n",
    "        # Classical ma중에서 additive model\n",
    "\n",
    "        return res,moving_mean"
   ]
  },
  {
   "cell_type": "code",
   "execution_count": 10,
   "id": "a524e2c0",
   "metadata": {},
   "outputs": [],
   "source": [
    "class Model(nn.Module):\n",
    "    \"Decomposition - Linear\"\n",
    "    def __init__(self,configs): # 내가 만든 configure module file\n",
    "        super(Model,self).__init__()\n",
    "        self.device = torch.device('cuda:0')\n",
    "        self.seq_len = int(configs['online_learning_DLinear_sales']['seq_len']) # configure의 sequence length\n",
    "        self.pred_len = int(configs['online_learning_DLinear_sales']['pred_len']) # configure의 prediction length1\n",
    "        \n",
    "        # Decomposition Kernel Size\n",
    "        kernel_size = 25\n",
    "        self.decomposition = series_decomp(kernel_size)\n",
    "        # residual과 moving_average 값을 받기 위한 decomposition model\n",
    "        self.individual = configs['online_learning_DLinear_sales']['individual'] # 1) 특성각각에 대해 별도의 layer를 둘것이냐의여부 이고\n",
    "        self.channels = int(configs['online_learning_DLinear_sales']['enc_in']) # 2) 이때 특성의개수\n",
    "        \n",
    "        if self.individual==True: # 특성 각각에 별도의 layer를 두자고 하면 -> Layer를 담아놓을 list가 필요함\n",
    "            self.Linear_Seasonal = nn.ModuleList() # 모듈을 담아놓는 리스트 파이썬의 리스트처럼 인덱스로 접근 가능하다\n",
    "            self.Linear_Trend = nn.ModuleList()\n",
    "            \n",
    "            for i in range(self.channels):\n",
    "                self.Linear_Seasonal.append(nn.Linear(self.seq_len,self.pred_len))\n",
    "                self.Linear_Trend.append(nn.Linear(self.seq_len,self.pred_len))\n",
    "        else: # 특성 각각에 별도의 layer를 두지 말자고 하면 하나씩의 Layer만 있으면 됨\n",
    "            self.Linear_Seasonal = nn.Linear(self.seq_len,self.pred_len)\n",
    "            self.Linear_Trend = nn.Linear(self.seq_len,self.pred_len)\n",
    "            \n",
    "    def forward(self,x):\n",
    "        \n",
    "        # x의 size는 [Batch, Input_length, Channel]\n",
    "        seasonal_init,trend_init = self.decomposition(x) # res = seasonality 를 moving_mean은 trend를 의미함\n",
    "        seasonal_init,trend_init = seasonal_init.cpu(), trend_init.cpu() # 새로로 펼친걸 가로로 늘림\n",
    "        # batch,input_size, sequence_length ex> tensor([[[1.6667, 2.0000, 2.6667, 3.6667],[1.6667, 2.0000, 2.6667, 3.6667]]])\n",
    "        \n",
    "        if self.individual==True:\n",
    "            seasonal_output = torch.zeros([seasonal_init.size(0),seasonal_init.size(1),self.pred_len],\n",
    "                                              dtype = seasonal_init.dtype).to(seasonal_init.device)\n",
    "                # seasonal_output을 저장할 Tensor를 만듦 Tip> ones도 비슷함\n",
    "            trend_output = torch.zeros([trend_init.size(0),trend_init.size(1),\n",
    "                                            self.pred_len],dtype = trend_init.dtype).to(trend_init.device)\n",
    "            for i in range(self.channels):# feature의 갯수만큼 for문을 돌림 feature 각각에 대해서 linear layer에 투입\n",
    "                seasonal_output[:,i,:] = self.Linear_Seasonal[i](seasonal_init[:,i,:])\n",
    "                    # 위에서 seasonal init을 batch, input_size, sequence length로 바꿈 여기서 input size가 의미하는 바가 사실 \n",
    "                    # feature의 갯수임 -> 따라서 각 피처마다 Linear Layer가 따로 있고 하나의 피처의 sequence length만큼의 데이터를 집어넣은후 학습하는 구조\n",
    "                trend_output[:,i,:] = self.Linear_Trend[i](trend_init[:,i,:])\n",
    "        else:\n",
    "            seasonal_output = self.Linear_Seasonal(seasonal_init)    \n",
    "            trend_output = self.Linear_Trend(trend_init)\n",
    "        \n",
    "        x = seasonal_output + trend_output\n",
    "        return x.permute(0,2,1).to(self.device) # batch size, output_length(not sequence_length Layer를 돌면서 크기가 바뀜), channel(feature_size)로 변경해서 return"
   ]
  },
  {
   "cell_type": "code",
   "execution_count": 11,
   "id": "a1d55000",
   "metadata": {},
   "outputs": [],
   "source": [
    "def seq_data(x,sequence_length,pred_len):\n",
    "    seq_list = []\n",
    "    target_list = []\n",
    "    device = torch.device(\"cuda:0\")\n",
    "    if (type(x)==list)|(type(x)==np.ndarray):\n",
    "        for i in range(len(x)-sequence_length):\n",
    "            seq_list.append(x[i:i+sequence_length].values)\n",
    "            target_list.append(x[i+sequence_length])\n",
    "    \n",
    "    if (type(x) == pd.Series)|(type(x) == pd.DataFrame):\n",
    "        for i in range(len(x)-sequence_length):\n",
    "            seq_list.append(x.iloc[i:i+sequence_length].values)\n",
    "            target_list.append(x.iloc[i+sequence_length])\n",
    "\n",
    "#             if i == 0:\n",
    "#                  print(x.iloc[i:i+sequence_length].values)\n",
    "#                  print(y[i+sequence_length:i+sequence_length+pred_len].values)\n",
    "            #print(x[i+sequence_length:i+sequence_length+pred_len].values.shape)\n",
    "    else:\n",
    "        print('error')\n",
    "\n",
    "    return FloatTensor(seq_list).view(-1,1,sequence_length).to(device),FloatTensor(target_list).unsqueeze(1).view(-1,1,pred_len).to(device)"
   ]
  },
  {
   "cell_type": "code",
   "execution_count": 12,
   "id": "83f9a6e0",
   "metadata": {
    "scrolled": false
   },
   "outputs": [
    {
     "name": "stderr",
     "output_type": "stream",
     "text": [
      "/tmp/ipykernel_362277/197408478.py:22: UserWarning: Creating a tensor from a list of numpy.ndarrays is extremely slow. Please consider converting the list to a single numpy.ndarray with numpy.array() before converting to a tensor. (Triggered internally at ../torch/csrc/utils/tensor_new.cpp:230.)\n",
      "  return FloatTensor(seq_list).view(-1,1,sequence_length).to(device),FloatTensor(target_list).unsqueeze(1).view(-1,1,pred_len).to(device)\n"
     ]
    }
   ],
   "source": [
    "sequence_length = 14\n",
    "pred_len = 1\n",
    "split= 14\n",
    "x_data = data.iloc[:-split]\n",
    "x_seq,target = seq_data(x=x_data,sequence_length=sequence_length,pred_len=pred_len)"
   ]
  },
  {
   "cell_type": "code",
   "execution_count": 13,
   "id": "56d6bf47",
   "metadata": {},
   "outputs": [
    {
     "data": {
      "text/plain": [
       "torch.Size([702, 1, 14])"
      ]
     },
     "execution_count": 13,
     "metadata": {},
     "output_type": "execute_result"
    }
   ],
   "source": [
    "x_seq.size()"
   ]
  },
  {
   "cell_type": "code",
   "execution_count": 21,
   "id": "7c84efd9",
   "metadata": {},
   "outputs": [],
   "source": [
    "batch_size = 1\n",
    "num_epochs = 100\n",
    "train_dataset = TensorDataset(x_seq,target)\n",
    "training = DataLoader(train_dataset,batch_size=batch_size)\n",
    "model = Model(config)\n",
    "optimizer = Adam(model.parameters(),1e-3)\n",
    "criterion = SMAPE()"
   ]
  },
  {
   "cell_type": "code",
   "execution_count": 22,
   "id": "19c647e0",
   "metadata": {
    "scrolled": true
   },
   "outputs": [
    {
     "name": "stdout",
     "output_type": "stream",
     "text": [
      "tensor([[[27., 37., 33., 26., 30., 21., 29., 30., 31., 27., 38., 14., 27., 33.]]],\n",
      "       device='cuda:0') tensor([[[28.]]], device='cuda:0')\n",
      "torch.Size([1, 1, 14]) torch.Size([1, 1, 1])\n"
     ]
    }
   ],
   "source": [
    "for a,b in training:\n",
    "    print(a,b)\n",
    "    print(a.size(),b.size())\n",
    "    break"
   ]
  },
  {
   "cell_type": "markdown",
   "id": "6a38253f",
   "metadata": {},
   "source": [
    "<font color =blue> zero_grad()의 이해 </font><br>\n",
    "parameter들을 업데이트하는데,\n",
    "한 루프에서 업데이트를 위해 loss.backward()를 호출하면 각 파라미터들의 .grad 값에 변화도가 저장이 된다.\n",
    "\n",
    "이후 다음 루프에서 zero_grad()를 하지않고 역전파를 시키면 이전 루프에서 .grad에 저장된 값이 다음 루프의 업데이트에도 간섭을 해서 원하는 방향으로 학습이 안된다고 한다."
   ]
  },
  {
   "cell_type": "code",
   "execution_count": 23,
   "id": "c7c45a6f",
   "metadata": {
    "scrolled": true
   },
   "outputs": [
    {
     "name": "stdout",
     "output_type": "stream",
     "text": [
      "smape 39.212289091889176 %\n",
      "smape 33.216280514567615 %\n",
      "smape 31.618916841502102 %\n",
      "smape 31.065364612425288 %\n",
      "smape 30.531994686869936 %\n",
      "smape 30.531922578167585 %\n",
      "smape 30.27554474312658 %\n",
      "smape 30.18864467047081 %\n",
      "smape 30.182321300375058 %\n",
      "smape 30.19128561667396 %\n",
      "smape 30.23635394077368 %\n",
      "smape 30.23604342932521 %\n",
      "smape 30.210271487549807 %\n",
      "smape 30.18981526795188 %\n",
      "smape 30.2184901608186 %\n",
      "smape 30.122089400679204 %\n",
      "smape 30.201370494438624 %\n",
      "smape 30.136007308429956 %\n",
      "smape 30.084385267346754 %\n",
      "smape 30.041128491127612 %\n",
      "smape 30.06706707899431 %\n",
      "smape 30.099659260905327 %\n",
      "smape 30.033881810105385 %\n",
      "smape 30.020714351143337 %\n",
      "smape 30.109779563912543 %\n",
      "smape 30.019337147732948 %\n",
      "smape 30.126416559543056 %\n",
      "smape 30.023831643606602 %\n",
      "smape 30.12847867276208 %\n",
      "smape 30.117247202911244 %\n",
      "smape 30.021653196319125 %\n",
      "smape 30.024692531495333 %\n",
      "smape 30.03676527435493 %\n",
      "smape 30.05677307331556 %\n",
      "smape 30.025234159008047 %\n",
      "smape 29.948323944190015 %\n",
      "smape 30.053833572716687 %\n",
      "smape 29.927746998457117 %\n",
      "smape 29.93921589813934 %\n",
      "smape 29.87765726448714 %\n",
      "smape 29.975274846800627 %\n",
      "smape 30.008253960822444 %\n",
      "smape 29.96641462287359 %\n",
      "smape 29.884538266592543 %\n",
      "smape 29.836031306085637 %\n",
      "smape 29.962316228757064 %\n",
      "smape 29.862669347403166 %\n",
      "smape 29.93047598353388 %\n",
      "smape 29.995611362823247 %\n",
      "smape 29.925344583506767 %\n",
      "smape 29.922362631853495 %\n",
      "smape 29.929016970172313 %\n",
      "smape 29.834416994667134 %\n",
      "smape 29.84748942058169 %\n",
      "smape 29.855828627532226 %\n",
      "smape 29.915831134559394 %\n",
      "smape 29.816117359707455 %\n",
      "smape 29.828154407836298 %\n",
      "smape 29.875533491496657 %\n",
      "smape 29.80881117389934 %\n",
      "smape 29.912272765905794 %\n",
      "smape 29.889622693891344 %\n",
      "smape 29.793192742071035 %\n",
      "smape 29.84925836918667 %\n",
      "smape 29.85902716704214 %\n",
      "smape 29.801259483357505 %\n",
      "smape 29.729294479228262 %\n",
      "smape 29.816086920962647 %\n",
      "smape 29.82358234271422 %\n",
      "smape 29.80354189433448 %\n",
      "smape 29.831212559845344 %\n",
      "smape 29.786984340950752 %\n",
      "smape 29.830342222081747 %\n",
      "smape 29.790037526011776 %\n",
      "smape 29.823072753319956 %\n",
      "smape 29.80328226514908 %\n",
      "smape 29.86708296830381 %\n",
      "smape 29.84045664163769 %\n",
      "smape 29.783179416316074 %\n",
      "smape 29.878623397494174 %\n",
      "smape 29.754610699031005 %\n",
      "smape 29.832624700789385 %\n",
      "smape 29.784174404626757 %\n",
      "smape 29.766063434953143 %\n",
      "smape 29.775437527563618 %\n",
      "smape 29.789628471390717 %\n",
      "smape 29.84186672454085 %\n",
      "smape 29.92318082769713 %\n",
      "smape 29.836364499496582 %\n",
      "smape 29.80697962228135 %\n",
      "smape 29.892402466221885 %\n",
      "smape 29.819926897033916 %\n",
      "smape 29.781500154099906 %\n",
      "smape 29.770919737787327 %\n",
      "smape 29.83936521418672 %\n",
      "smape 29.864725431900524 %\n",
      "smape 29.80343742188142 %\n",
      "smape 29.840446624256796 %\n",
      "smape 29.84567236871902 %\n",
      "smape 29.78592500163732 %\n"
     ]
    }
   ],
   "source": [
    "out_list = []\n",
    "loss_list = []\n",
    "n = len(training)\n",
    "for i in range(num_epochs):\n",
    "    running_loss = 0.0\n",
    "    for seq,tg in training:\n",
    "\n",
    "        out = model(seq)\n",
    "        \n",
    "        loss = criterion(out,tg)\n",
    "        \n",
    "        optimizer.zero_grad()\n",
    "        \n",
    "        loss.backward()\n",
    "        \n",
    "        optimizer.step() # optimizer 최적화\n",
    "        \n",
    "        running_loss = running_loss + loss.item()        \n",
    "        \n",
    "    loss_list.append(running_loss/n)\n",
    "    print('smape',running_loss/n*100,'%')        "
   ]
  },
  {
   "cell_type": "code",
   "execution_count": 24,
   "id": "48c2cb33",
   "metadata": {
    "scrolled": true
   },
   "outputs": [
    {
     "name": "stdout",
     "output_type": "stream",
     "text": [
      "SMAPE 8.761837849062431 %\n",
      "SMAPE 50.72871998883783 %\n",
      "SMAPE 12.558901347991194 %\n",
      "SMAPE 1.3791194504826763 %\n",
      "SMAPE 0.5241942640495836 %\n",
      "SMAPE 1.4389268012455432 %\n",
      "SMAPE 0.12034197138018499 %\n",
      "SMAPE 2.038155838599778 %\n",
      "SMAPE 9.327761377746356 %\n",
      "SMAPE 8.427659136301372 %\n",
      "SMAPE 0.1191919325865456 %\n",
      "SMAPE 0.8000283332412437 %\n",
      "SMAPE 6.81569709420728 %\n",
      "SMAPE 1.2437301730460604 %\n"
     ]
    }
   ],
   "source": [
    "device = torch.device('cuda:0')\n",
    "X = data.iloc[:-split]\n",
    "target = data.iloc[-split:]\n",
    "pred_list = []\n",
    "time_list = []\n",
    "for idx in range(split):\n",
    "    running_loss = 0.0\n",
    "    start = time.time()\n",
    "    for epochs in range(num_epochs):\n",
    "        if idx == 0:\n",
    "             new_train = torch.FloatTensor(\n",
    "            [X.iloc[-sequence_length:].values]\n",
    "        ).view(1,1,sequence_length).to(device)\n",
    "                \n",
    "        else:\n",
    "            new_train = torch.FloatTensor(\n",
    "                [pd.concat([X.iloc[-sequence_length+idx:],target.iloc[0:idx]],axis=0,ignore_index=True).values]\n",
    "            ).view(1,1,sequence_length).to(device)\n",
    "\n",
    "        out = model(new_train) # 예측완료\n",
    "        \n",
    "        tg = FloatTensor(target.iloc[idx]).view(1,1,1).to(device)\n",
    "        loss = criterion(out,tg)# 예측값과 타겟값의 비교\n",
    "        \n",
    "        optimizer.zero_grad()\n",
    "        \n",
    "        loss.backward()\n",
    "        \n",
    "        optimizer.step() # optimizer 최적화\n",
    "        \n",
    "        running_loss = running_loss + loss.item()        \n",
    "    \n",
    "    print('SMAPE',(running_loss/100)*100,'%')\n",
    "    end = time.time()\n",
    "    pred_list.append(out.cpu().view(1).item())\n",
    "    time_list.append(end-start)"
   ]
  },
  {
   "cell_type": "code",
   "execution_count": 25,
   "id": "22db4690",
   "metadata": {},
   "outputs": [
    {
     "data": {
      "text/plain": [
       "14"
      ]
     },
     "execution_count": 25,
     "metadata": {},
     "output_type": "execute_result"
    }
   ],
   "source": [
    "len(pred_list)"
   ]
  },
  {
   "cell_type": "code",
   "execution_count": 27,
   "id": "3963d094",
   "metadata": {},
   "outputs": [
    {
     "data": {
      "text/plain": [
       "<matplotlib.legend.Legend at 0x7fc0779c0e80>"
      ]
     },
     "execution_count": 27,
     "metadata": {},
     "output_type": "execute_result"
    },
    {
     "data": {
      "image/png": "[encoded data removed]",
      "text/plain": [
       "<Figure size 1200x800 with 1 Axes>"
      ]
     },
     "metadata": {},
     "output_type": "display_data"
    }
   ],
   "source": [
    "fig,axes = plt.subplots(1,1,figsize=(12,8))\n",
    "axes.plot(np.arange(1,15),pred_list,label='prediction')\n",
    "axes.plot(np.arange(1,15),target,label='target')\n",
    "axes.legend()"
   ]
  },
  {
   "cell_type": "code",
   "execution_count": 28,
   "id": "cc0c3461",
   "metadata": {},
   "outputs": [
    {
     "data": {
      "text/plain": [
       "array([43.03989029, 15.64478588, 22.07377243, 21.88629532, 25.00660133,\n",
       "       28.97511864, 33.93334579, 31.1029892 , 18.0280571 , 24.92196846,\n",
       "       24.99224472, 28.98496056, 20.91324043, 24.97402763])"
      ]
     },
     "execution_count": 28,
     "metadata": {},
     "output_type": "execute_result"
    }
   ],
   "source": [
    "np.array(pred_list)"
   ]
  },
  {
   "cell_type": "code",
   "execution_count": 29,
   "id": "9f549a6f",
   "metadata": {},
   "outputs": [
    {
     "data": {
      "text/plain": [
       "array([[43],\n",
       "       [16],\n",
       "       [22],\n",
       "       [22],\n",
       "       [25],\n",
       "       [29],\n",
       "       [34],\n",
       "       [31],\n",
       "       [18],\n",
       "       [25],\n",
       "       [25],\n",
       "       [29],\n",
       "       [21],\n",
       "       [25]])"
      ]
     },
     "execution_count": 29,
     "metadata": {},
     "output_type": "execute_result"
    }
   ],
   "source": [
    "target = data.iloc[-split:]\n",
    "target = target.values.reshape(-1,1)\n",
    "target"
   ]
  },
  {
   "cell_type": "code",
   "execution_count": 30,
   "id": "157cb8b1",
   "metadata": {},
   "outputs": [
    {
     "name": "stdout",
     "output_type": "stream",
     "text": [
      "torch.Size([14]) torch.Size([14, 1])\n"
     ]
    }
   ],
   "source": [
    "print(FloatTensor(np.array(pred_list)).size(),FloatTensor(target).size())"
   ]
  },
  {
   "cell_type": "code",
   "execution_count": 31,
   "id": "dce4c9fe",
   "metadata": {
    "scrolled": true
   },
   "outputs": [
    {
     "data": {
      "text/plain": [
       "tensor(0.3500)"
      ]
     },
     "execution_count": 31,
     "metadata": {},
     "output_type": "execute_result"
    }
   ],
   "source": [
    "SMAPE()(FloatTensor(np.array(pred_list).reshape(-1,1)),FloatTensor(target))*100"
   ]
  },
  {
   "cell_type": "code",
   "execution_count": 33,
   "id": "a8d0bb91",
   "metadata": {},
   "outputs": [
    {
     "data": {
      "text/plain": [
       "14"
      ]
     },
     "execution_count": 33,
     "metadata": {},
     "output_type": "execute_result"
    }
   ],
   "source": [
    "len(time_list)"
   ]
  },
  {
   "cell_type": "code",
   "execution_count": 35,
   "id": "9064950e",
   "metadata": {
    "scrolled": true
   },
   "outputs": [
    {
     "data": {
      "text/plain": [
       "0.1648899827684675"
      ]
     },
     "execution_count": 35,
     "metadata": {},
     "output_type": "execute_result"
    }
   ],
   "source": [
    "np.mean(time_list) # 한번 훈련하는데 걸린 시간 "
   ]
  },
  {
   "cell_type": "markdown",
   "id": "f7a3dc08",
   "metadata": {},
   "source": [
    "<font color = blue><font size = 6> Conclusion </font></font><br>\n",
    "0.3퍼센트의 결과는 계절성이 clear한 데이터에서 나온 수치와 비슷한 수치이다 이는 계절성이 online-learning에서 주요한 요인이 아니라는 점을 시사한다"
   ]
  },
  {
   "cell_type": "code",
   "execution_count": null,
   "id": "73f48f99",
   "metadata": {},
   "outputs": [],
   "source": []
  }
 ],
 "metadata": {
  "kernelspec": {
   "display_name": "sj_virtual",
   "language": "python",
   "name": "myvenv"
  },
  "language_info": {
   "codemirror_mode": {
    "name": "ipython",
    "version": 3
   },
   "file_extension": ".py",
   "mimetype": "text/x-python",
   "name": "python",
   "nbconvert_exporter": "python",
   "pygments_lexer": "ipython3",
   "version": "3.8.10"
  },
  "varInspector": {
   "cols": {
    "lenName": 16,
    "lenType": 16,
    "lenVar": 40
   },
   "kernels_config": {
    "python": {
     "delete_cmd_postfix": "",
     "delete_cmd_prefix": "del ",
     "library": "var_list.py",
     "varRefreshCmd": "print(var_dic_list())"
    },
    "r": {
     "delete_cmd_postfix": ") ",
     "delete_cmd_prefix": "rm(",
     "library": "var_list.r",
     "varRefreshCmd": "cat(var_dic_list()) "
    }
   },
   "types_to_exclude": [
    "module",
    "function",
    "builtin_function_or_method",
    "instance",
    "_Feature"
   ],
   "window_display": false
  }
 },
 "nbformat": 4,
 "nbformat_minor": 5
}
